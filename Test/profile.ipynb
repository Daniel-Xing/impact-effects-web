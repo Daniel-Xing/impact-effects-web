{
 "cells": [
  {
   "cell_type": "code",
   "execution_count": 62,
   "id": "0f0118f2",
   "metadata": {},
   "outputs": [],
   "source": [
    "import requests\n",
    "import json\n",
    "\n",
    "import numpy as np\n",
    "import os\n",
    "import time\n",
    "import sys\n",
    "import numpy as np\n",
    "\n",
    "%matplotlib inline\n",
    "import numpy as np\n",
    "import matplotlib.pyplot as plt\n",
    "from mpltools import annotation\n",
    "\n",
    "# some default font sizes for plots\n",
    "plt.rcParams['font.size'] = 12\n",
    "plt.rcParams['font.family'] = 'sans-serif'\n",
    "plt.rcParams['font.sans-serif'] = ['Arial', 'Dejavu Sans']"
   ]
  },
  {
   "cell_type": "markdown",
   "id": "c9d5ed80",
   "metadata": {},
   "source": [
    "## Untils Defination"
   ]
  },
  {
   "cell_type": "code",
   "execution_count": 63,
   "id": "2ae5996b",
   "metadata": {},
   "outputs": [],
   "source": [
    "cmd_prefix = \"./back-end-tests/manyRequest\""
   ]
  },
  {
   "cell_type": "code",
   "execution_count": 101,
   "id": "2e25130b",
   "metadata": {},
   "outputs": [],
   "source": [
    "def run_command(cmd):\n",
    "    return os.popen(cmd).read()\n",
    "\n",
    "def get_run_time(result):\n",
    "    prefix = \"Time Cost:  \"\n",
    "    print(result)\n",
    "    return float(result[result.index(prefix) + len(prefix):result.index(\" ms\")])\n",
    "\n",
    "def get_request_url(pdiameter = 111,\n",
    "    pdensity = 111,\n",
    "    velocity = 111,\n",
    "    theta = 45,\n",
    "    tdensity = 2500,\n",
    "    depth = 0,\n",
    "    distance = 75):\n",
    "    \n",
    "    URL = \"\"\"http://121.36.81.191/cgi-bin/crater.cgi?dist=%d&distanceUnits=1&diam=%d&diameterUnits=1&pdens=%d&pdens_select=0&vel=%d&velocityUnits=1&theta=%d&tdens=%d&wdepth=%d&wdepthUnits=1\"\"\" % (distance, pdiameter, pdensity, velocity, theta, tdensity, depth)\n",
    "    return URL"
   ]
  },
  {
   "cell_type": "code",
   "execution_count": 83,
   "id": "b4e31110",
   "metadata": {},
   "outputs": [],
   "source": [
    "def record_times_get(times, url):\n",
    "    \"\"\"\n",
    "    paramters:\n",
    "        times: slice or numpy.ndarray, \n",
    "                howMayTimes, request\n",
    "        url: string\n",
    "            address of get request\n",
    "    \"\"\"\n",
    "    \n",
    "    times = np.array(times)\n",
    "    records = {}\n",
    "    \n",
    "    for t in times:\n",
    "        params = \" --url='%s' --requestMethod=get --requestTimes=%d\" % (url, t)\n",
    "        records[t] = get_run_time(run_command(cmd = cmd_prefix + params))\n",
    "    return records\n",
    "\n",
    "def record_time_post(times, url,\n",
    "                     pdiameter = 111,\n",
    "                     pdensity = 111,\n",
    "                     velocity = 111,\n",
    "                     theta = 45,\n",
    "                     tdensity = 2500,\n",
    "                     depth = 0,\n",
    "                     distance = 75):\n",
    "    \n",
    "    \"\"\"\n",
    "    paramters:\n",
    "        times: slice or numpy.ndarray, \n",
    "                howMayTimes, request\n",
    "        url: string\n",
    "            address of get request\n",
    "    \"\"\"\n",
    "    \n",
    "    times = np.array(times)\n",
    "    records = {}\n",
    "    params_data = \" --impactor_density=%d --impactor_diameter=%d --impactor_velocity=%d --impactor_theta=%d --target_density=%d --target_depth=%d --target_distance=%d \" % (\n",
    "    pdensity, pdiameter, velocity, theta, tdensity, depth, distance)\n",
    "    \n",
    "    for t in times:\n",
    "        params = \" --url='%s' --requestMethod=post --requestTimes=%d \" % (url, t)\n",
    "        records[t] = get_run_time(run_command(cmd = cmd_prefix + params + params_data))\n",
    "    return records\n",
    "    \n",
    "    "
   ]
  },
  {
   "cell_type": "markdown",
   "id": "94b9a21e",
   "metadata": {},
   "source": [
    "## Collect Runtime"
   ]
  },
  {
   "cell_type": "markdown",
   "id": "57b5a8d0",
   "metadata": {},
   "source": [
    "### Old Web Tool"
   ]
  },
  {
   "cell_type": "code",
   "execution_count": 109,
   "id": "f8c2707a",
   "metadata": {
    "scrolled": true
   },
   "outputs": [
    {
     "name": "stdout",
     "output_type": "stream",
     "text": [
      "http://121.36.81.191:50052/simulator\n",
      "Run request for 1 times to with Redis URL: http://121.36.81.191/cgi-bin/crater.cgi?dist=75&distanceUnits=1&diam=111&diameterUnits=1&pdens=111&pdens_select=0&vel=111&velocityUnits=1&theta=45&tdens=2500&wdepth=0&wdepthUnits=1 \n",
      "Time Cost:  202 ms\n",
      "\n",
      "http://121.36.81.191:50052/simulator\n",
      "Run request for 2 times to with Redis URL: http://121.36.81.191/cgi-bin/crater.cgi?dist=75&distanceUnits=1&diam=111&diameterUnits=1&pdens=111&pdens_select=0&vel=111&velocityUnits=1&theta=45&tdens=2500&wdepth=0&wdepthUnits=1 \n",
      "Time Cost:  194 ms\n",
      "\n",
      "http://121.36.81.191:50052/simulator\n",
      "Run request for 3 times to with Redis URL: http://121.36.81.191/cgi-bin/crater.cgi?dist=75&distanceUnits=1&diam=111&diameterUnits=1&pdens=111&pdens_select=0&vel=111&velocityUnits=1&theta=45&tdens=2500&wdepth=0&wdepthUnits=1 \n",
      "Time Cost:  247 ms\n",
      "\n",
      "http://121.36.81.191:50052/simulator\n",
      "Run request for 4 times to with Redis URL: http://121.36.81.191/cgi-bin/crater.cgi?dist=75&distanceUnits=1&diam=111&diameterUnits=1&pdens=111&pdens_select=0&vel=111&velocityUnits=1&theta=45&tdens=2500&wdepth=0&wdepthUnits=1 \n",
      "Time Cost:  294 ms\n",
      "\n",
      "http://121.36.81.191:50052/simulator\n",
      "Run request for 5 times to with Redis URL: http://121.36.81.191/cgi-bin/crater.cgi?dist=75&distanceUnits=1&diam=111&diameterUnits=1&pdens=111&pdens_select=0&vel=111&velocityUnits=1&theta=45&tdens=2500&wdepth=0&wdepthUnits=1 \n",
      "Time Cost:  55002 ms\n",
      "\n",
      "http://121.36.81.191:50052/simulator\n",
      "Run request for 6 times to with Redis URL: http://121.36.81.191/cgi-bin/crater.cgi?dist=75&distanceUnits=1&diam=111&diameterUnits=1&pdens=111&pdens_select=0&vel=111&velocityUnits=1&theta=45&tdens=2500&wdepth=0&wdepthUnits=1 \n",
      "Time Cost:  402 ms\n",
      "\n",
      "http://121.36.81.191:50052/simulator\n",
      "Run request for 7 times to with Redis URL: http://121.36.81.191/cgi-bin/crater.cgi?dist=75&distanceUnits=1&diam=111&diameterUnits=1&pdens=111&pdens_select=0&vel=111&velocityUnits=1&theta=45&tdens=2500&wdepth=0&wdepthUnits=1 \n",
      "Time Cost:  418 ms\n",
      "\n",
      "http://121.36.81.191:50052/simulator\n",
      "Run request for 8 times to with Redis URL: http://121.36.81.191/cgi-bin/crater.cgi?dist=75&distanceUnits=1&diam=111&diameterUnits=1&pdens=111&pdens_select=0&vel=111&velocityUnits=1&theta=45&tdens=2500&wdepth=0&wdepthUnits=1 \n",
      "Time Cost:  476 ms\n",
      "\n",
      "http://121.36.81.191:50052/simulator\n",
      "Run request for 9 times to with Redis URL: http://121.36.81.191/cgi-bin/crater.cgi?dist=75&distanceUnits=1&diam=111&diameterUnits=1&pdens=111&pdens_select=0&vel=111&velocityUnits=1&theta=45&tdens=2500&wdepth=0&wdepthUnits=1 \n",
      "Time Cost:  543 ms\n",
      "\n",
      "http://121.36.81.191:50052/simulator\n",
      "Run request for 10 times to with Redis URL: http://121.36.81.191/cgi-bin/crater.cgi?dist=75&distanceUnits=1&diam=111&diameterUnits=1&pdens=111&pdens_select=0&vel=111&velocityUnits=1&theta=45&tdens=2500&wdepth=0&wdepthUnits=1 \n",
      "Time Cost:  594 ms\n",
      "\n",
      "http://121.36.81.191:50052/simulator\n",
      "Run request for 11 times to with Redis URL: http://121.36.81.191/cgi-bin/crater.cgi?dist=75&distanceUnits=1&diam=111&diameterUnits=1&pdens=111&pdens_select=0&vel=111&velocityUnits=1&theta=45&tdens=2500&wdepth=0&wdepthUnits=1 \n",
      "Time Cost:  639 ms\n",
      "\n",
      "http://121.36.81.191:50052/simulator\n",
      "Run request for 12 times to with Redis URL: http://121.36.81.191/cgi-bin/crater.cgi?dist=75&distanceUnits=1&diam=111&diameterUnits=1&pdens=111&pdens_select=0&vel=111&velocityUnits=1&theta=45&tdens=2500&wdepth=0&wdepthUnits=1 \n",
      "Time Cost:  723 ms\n",
      "\n",
      "http://121.36.81.191:50052/simulator\n",
      "Run request for 13 times to with Redis URL: http://121.36.81.191/cgi-bin/crater.cgi?dist=75&distanceUnits=1&diam=111&diameterUnits=1&pdens=111&pdens_select=0&vel=111&velocityUnits=1&theta=45&tdens=2500&wdepth=0&wdepthUnits=1 \n",
      "Time Cost:  733 ms\n",
      "\n",
      "http://121.36.81.191:50052/simulator\n",
      "Run request for 14 times to with Redis URL: http://121.36.81.191/cgi-bin/crater.cgi?dist=75&distanceUnits=1&diam=111&diameterUnits=1&pdens=111&pdens_select=0&vel=111&velocityUnits=1&theta=45&tdens=2500&wdepth=0&wdepthUnits=1 \n",
      "Time Cost:  773 ms\n",
      "\n",
      "http://121.36.81.191:50052/simulator\n",
      "Run request for 15 times to with Redis URL: http://121.36.81.191/cgi-bin/crater.cgi?dist=75&distanceUnits=1&diam=111&diameterUnits=1&pdens=111&pdens_select=0&vel=111&velocityUnits=1&theta=45&tdens=2500&wdepth=0&wdepthUnits=1 \n",
      "Time Cost:  853 ms\n",
      "\n",
      "http://121.36.81.191:50052/simulator\n",
      "Run request for 16 times to with Redis URL: http://121.36.81.191/cgi-bin/crater.cgi?dist=75&distanceUnits=1&diam=111&diameterUnits=1&pdens=111&pdens_select=0&vel=111&velocityUnits=1&theta=45&tdens=2500&wdepth=0&wdepthUnits=1 \n",
      "Time Cost:  872 ms\n",
      "\n",
      "http://121.36.81.191:50052/simulator\n",
      "Run request for 17 times to with Redis URL: http://121.36.81.191/cgi-bin/crater.cgi?dist=75&distanceUnits=1&diam=111&diameterUnits=1&pdens=111&pdens_select=0&vel=111&velocityUnits=1&theta=45&tdens=2500&wdepth=0&wdepthUnits=1 \n",
      "Time Cost:  913 ms\n",
      "\n",
      "http://121.36.81.191:50052/simulator\n",
      "Run request for 18 times to with Redis URL: http://121.36.81.191/cgi-bin/crater.cgi?dist=75&distanceUnits=1&diam=111&diameterUnits=1&pdens=111&pdens_select=0&vel=111&velocityUnits=1&theta=45&tdens=2500&wdepth=0&wdepthUnits=1 \n",
      "Time Cost:  951 ms\n",
      "\n",
      "http://121.36.81.191:50052/simulator\n",
      "Run request for 19 times to with Redis URL: http://121.36.81.191/cgi-bin/crater.cgi?dist=75&distanceUnits=1&diam=111&diameterUnits=1&pdens=111&pdens_select=0&vel=111&velocityUnits=1&theta=45&tdens=2500&wdepth=0&wdepthUnits=1 \n",
      "Time Cost:  1020 ms\n",
      "\n",
      "http://121.36.81.191:50052/simulator\n",
      "Run request for 20 times to with Redis URL: http://121.36.81.191/cgi-bin/crater.cgi?dist=75&distanceUnits=1&diam=111&diameterUnits=1&pdens=111&pdens_select=0&vel=111&velocityUnits=1&theta=45&tdens=2500&wdepth=0&wdepthUnits=1 \n",
      "Time Cost:  1271 ms\n",
      "\n",
      "http://121.36.81.191:50052/simulator\n",
      "Run request for 21 times to with Redis URL: http://121.36.81.191/cgi-bin/crater.cgi?dist=75&distanceUnits=1&diam=111&diameterUnits=1&pdens=111&pdens_select=0&vel=111&velocityUnits=1&theta=45&tdens=2500&wdepth=0&wdepthUnits=1 \n",
      "Time Cost:  1127 ms\n",
      "\n",
      "http://121.36.81.191:50052/simulator\n",
      "Run request for 22 times to with Redis URL: http://121.36.81.191/cgi-bin/crater.cgi?dist=75&distanceUnits=1&diam=111&diameterUnits=1&pdens=111&pdens_select=0&vel=111&velocityUnits=1&theta=45&tdens=2500&wdepth=0&wdepthUnits=1 \n",
      "Time Cost:  1170 ms\n",
      "\n",
      "http://121.36.81.191:50052/simulator\n",
      "Run request for 23 times to with Redis URL: http://121.36.81.191/cgi-bin/crater.cgi?dist=75&distanceUnits=1&diam=111&diameterUnits=1&pdens=111&pdens_select=0&vel=111&velocityUnits=1&theta=45&tdens=2500&wdepth=0&wdepthUnits=1 \n",
      "Time Cost:  1198 ms\n",
      "\n",
      "http://121.36.81.191:50052/simulator\n",
      "Run request for 24 times to with Redis URL: http://121.36.81.191/cgi-bin/crater.cgi?dist=75&distanceUnits=1&diam=111&diameterUnits=1&pdens=111&pdens_select=0&vel=111&velocityUnits=1&theta=45&tdens=2500&wdepth=0&wdepthUnits=1 \n",
      "Time Cost:  1250 ms\n",
      "\n",
      "http://121.36.81.191:50052/simulator\n",
      "Run request for 25 times to with Redis URL: http://121.36.81.191/cgi-bin/crater.cgi?dist=75&distanceUnits=1&diam=111&diameterUnits=1&pdens=111&pdens_select=0&vel=111&velocityUnits=1&theta=45&tdens=2500&wdepth=0&wdepthUnits=1 \n",
      "Time Cost:  1286 ms\n",
      "\n",
      "http://121.36.81.191:50052/simulator\n",
      "Run request for 26 times to with Redis URL: http://121.36.81.191/cgi-bin/crater.cgi?dist=75&distanceUnits=1&diam=111&diameterUnits=1&pdens=111&pdens_select=0&vel=111&velocityUnits=1&theta=45&tdens=2500&wdepth=0&wdepthUnits=1 \n",
      "Time Cost:  1360 ms\n",
      "\n",
      "http://121.36.81.191:50052/simulator\n",
      "Run request for 27 times to with Redis URL: http://121.36.81.191/cgi-bin/crater.cgi?dist=75&distanceUnits=1&diam=111&diameterUnits=1&pdens=111&pdens_select=0&vel=111&velocityUnits=1&theta=45&tdens=2500&wdepth=0&wdepthUnits=1 \n",
      "Time Cost:  1441 ms\n",
      "\n",
      "http://121.36.81.191:50052/simulator\n",
      "Run request for 28 times to with Redis URL: http://121.36.81.191/cgi-bin/crater.cgi?dist=75&distanceUnits=1&diam=111&diameterUnits=1&pdens=111&pdens_select=0&vel=111&velocityUnits=1&theta=45&tdens=2500&wdepth=0&wdepthUnits=1 \n",
      "Time Cost:  1452 ms\n",
      "\n",
      "http://121.36.81.191:50052/simulator\n",
      "Run request for 29 times to with Redis URL: http://121.36.81.191/cgi-bin/crater.cgi?dist=75&distanceUnits=1&diam=111&diameterUnits=1&pdens=111&pdens_select=0&vel=111&velocityUnits=1&theta=45&tdens=2500&wdepth=0&wdepthUnits=1 \n",
      "Time Cost:  1457 ms\n",
      "\n"
     ]
    },
    {
     "name": "stdout",
     "output_type": "stream",
     "text": [
      "http://121.36.81.191:50052/simulator\n",
      "Run request for 30 times to with Redis URL: http://121.36.81.191/cgi-bin/crater.cgi?dist=75&distanceUnits=1&diam=111&diameterUnits=1&pdens=111&pdens_select=0&vel=111&velocityUnits=1&theta=45&tdens=2500&wdepth=0&wdepthUnits=1 \n",
      "Time Cost:  1548 ms\n",
      "\n",
      "http://121.36.81.191:50052/simulator\n",
      "Run request for 31 times to with Redis URL: http://121.36.81.191/cgi-bin/crater.cgi?dist=75&distanceUnits=1&diam=111&diameterUnits=1&pdens=111&pdens_select=0&vel=111&velocityUnits=1&theta=45&tdens=2500&wdepth=0&wdepthUnits=1 \n",
      "Time Cost:  1653 ms\n",
      "\n",
      "http://121.36.81.191:50052/simulator\n",
      "Run request for 32 times to with Redis URL: http://121.36.81.191/cgi-bin/crater.cgi?dist=75&distanceUnits=1&diam=111&diameterUnits=1&pdens=111&pdens_select=0&vel=111&velocityUnits=1&theta=45&tdens=2500&wdepth=0&wdepthUnits=1 \n",
      "Time Cost:  1663 ms\n",
      "\n",
      "http://121.36.81.191:50052/simulator\n",
      "Run request for 33 times to with Redis URL: http://121.36.81.191/cgi-bin/crater.cgi?dist=75&distanceUnits=1&diam=111&diameterUnits=1&pdens=111&pdens_select=0&vel=111&velocityUnits=1&theta=45&tdens=2500&wdepth=0&wdepthUnits=1 \n",
      "Time Cost:  1734 ms\n",
      "\n",
      "http://121.36.81.191:50052/simulator\n",
      "Run request for 34 times to with Redis URL: http://121.36.81.191/cgi-bin/crater.cgi?dist=75&distanceUnits=1&diam=111&diameterUnits=1&pdens=111&pdens_select=0&vel=111&velocityUnits=1&theta=45&tdens=2500&wdepth=0&wdepthUnits=1 \n",
      "Time Cost:  1742 ms\n",
      "\n",
      "http://121.36.81.191:50052/simulator\n",
      "Run request for 35 times to with Redis URL: http://121.36.81.191/cgi-bin/crater.cgi?dist=75&distanceUnits=1&diam=111&diameterUnits=1&pdens=111&pdens_select=0&vel=111&velocityUnits=1&theta=45&tdens=2500&wdepth=0&wdepthUnits=1 \n",
      "Time Cost:  1860 ms\n",
      "\n",
      "http://121.36.81.191:50052/simulator\n",
      "Run request for 36 times to with Redis URL: http://121.36.81.191/cgi-bin/crater.cgi?dist=75&distanceUnits=1&diam=111&diameterUnits=1&pdens=111&pdens_select=0&vel=111&velocityUnits=1&theta=45&tdens=2500&wdepth=0&wdepthUnits=1 \n",
      "Time Cost:  1832 ms\n",
      "\n",
      "http://121.36.81.191:50052/simulator\n",
      "Run request for 37 times to with Redis URL: http://121.36.81.191/cgi-bin/crater.cgi?dist=75&distanceUnits=1&diam=111&diameterUnits=1&pdens=111&pdens_select=0&vel=111&velocityUnits=1&theta=45&tdens=2500&wdepth=0&wdepthUnits=1 \n",
      "Time Cost:  1920 ms\n",
      "\n",
      "http://121.36.81.191:50052/simulator\n",
      "Run request for 38 times to with Redis URL: http://121.36.81.191/cgi-bin/crater.cgi?dist=75&distanceUnits=1&diam=111&diameterUnits=1&pdens=111&pdens_select=0&vel=111&velocityUnits=1&theta=45&tdens=2500&wdepth=0&wdepthUnits=1 \n",
      "Time Cost:  1983 ms\n",
      "\n",
      "http://121.36.81.191:50052/simulator\n",
      "Run request for 39 times to with Redis URL: http://121.36.81.191/cgi-bin/crater.cgi?dist=75&distanceUnits=1&diam=111&diameterUnits=1&pdens=111&pdens_select=0&vel=111&velocityUnits=1&theta=45&tdens=2500&wdepth=0&wdepthUnits=1 \n",
      "Time Cost:  1991 ms\n",
      "\n",
      "http://121.36.81.191:50052/simulator\n",
      "Run request for 40 times to with Redis URL: http://121.36.81.191/cgi-bin/crater.cgi?dist=75&distanceUnits=1&diam=111&diameterUnits=1&pdens=111&pdens_select=0&vel=111&velocityUnits=1&theta=45&tdens=2500&wdepth=0&wdepthUnits=1 \n",
      "Time Cost:  2053 ms\n",
      "\n",
      "http://121.36.81.191:50052/simulator\n",
      "Run request for 41 times to with Redis URL: http://121.36.81.191/cgi-bin/crater.cgi?dist=75&distanceUnits=1&diam=111&diameterUnits=1&pdens=111&pdens_select=0&vel=111&velocityUnits=1&theta=45&tdens=2500&wdepth=0&wdepthUnits=1 \n",
      "Time Cost:  2072 ms\n",
      "\n",
      "http://121.36.81.191:50052/simulator\n",
      "Run request for 42 times to with Redis URL: http://121.36.81.191/cgi-bin/crater.cgi?dist=75&distanceUnits=1&diam=111&diameterUnits=1&pdens=111&pdens_select=0&vel=111&velocityUnits=1&theta=45&tdens=2500&wdepth=0&wdepthUnits=1 \n",
      "Time Cost:  2105 ms\n",
      "\n",
      "http://121.36.81.191:50052/simulator\n",
      "Run request for 43 times to with Redis URL: http://121.36.81.191/cgi-bin/crater.cgi?dist=75&distanceUnits=1&diam=111&diameterUnits=1&pdens=111&pdens_select=0&vel=111&velocityUnits=1&theta=45&tdens=2500&wdepth=0&wdepthUnits=1 \n",
      "Time Cost:  2138 ms\n",
      "\n",
      "http://121.36.81.191:50052/simulator\n",
      "Run request for 44 times to with Redis URL: http://121.36.81.191/cgi-bin/crater.cgi?dist=75&distanceUnits=1&diam=111&diameterUnits=1&pdens=111&pdens_select=0&vel=111&velocityUnits=1&theta=45&tdens=2500&wdepth=0&wdepthUnits=1 \n",
      "Time Cost:  2244 ms\n",
      "\n",
      "http://121.36.81.191:50052/simulator\n",
      "Run request for 45 times to with Redis URL: http://121.36.81.191/cgi-bin/crater.cgi?dist=75&distanceUnits=1&diam=111&diameterUnits=1&pdens=111&pdens_select=0&vel=111&velocityUnits=1&theta=45&tdens=2500&wdepth=0&wdepthUnits=1 \n",
      "Time Cost:  2246 ms\n",
      "\n",
      "http://121.36.81.191:50052/simulator\n",
      "Run request for 46 times to with Redis URL: http://121.36.81.191/cgi-bin/crater.cgi?dist=75&distanceUnits=1&diam=111&diameterUnits=1&pdens=111&pdens_select=0&vel=111&velocityUnits=1&theta=45&tdens=2500&wdepth=0&wdepthUnits=1 \n",
      "Time Cost:  2322 ms\n",
      "\n",
      "http://121.36.81.191:50052/simulator\n",
      "Run request for 47 times to with Redis URL: http://121.36.81.191/cgi-bin/crater.cgi?dist=75&distanceUnits=1&diam=111&diameterUnits=1&pdens=111&pdens_select=0&vel=111&velocityUnits=1&theta=45&tdens=2500&wdepth=0&wdepthUnits=1 \n",
      "Time Cost:  2399 ms\n",
      "\n",
      "http://121.36.81.191:50052/simulator\n",
      "Run request for 48 times to with Redis URL: http://121.36.81.191/cgi-bin/crater.cgi?dist=75&distanceUnits=1&diam=111&diameterUnits=1&pdens=111&pdens_select=0&vel=111&velocityUnits=1&theta=45&tdens=2500&wdepth=0&wdepthUnits=1 \n",
      "Time Cost:  2399 ms\n",
      "\n",
      "http://121.36.81.191:50052/simulator\n",
      "Run request for 49 times to with Redis URL: http://121.36.81.191/cgi-bin/crater.cgi?dist=75&distanceUnits=1&diam=111&diameterUnits=1&pdens=111&pdens_select=0&vel=111&velocityUnits=1&theta=45&tdens=2500&wdepth=0&wdepthUnits=1 \n",
      "Time Cost:  2459 ms\n",
      "\n",
      "http://121.36.81.191:50052/simulator\n",
      "Run request for 50 times to with Redis URL: http://121.36.81.191/cgi-bin/crater.cgi?dist=75&distanceUnits=1&diam=111&diameterUnits=1&pdens=111&pdens_select=0&vel=111&velocityUnits=1&theta=45&tdens=2500&wdepth=0&wdepthUnits=1 \n",
      "Time Cost:  2517 ms\n",
      "\n",
      "http://121.36.81.191:50052/simulator\n",
      "Run request for 51 times to with Redis URL: http://121.36.81.191/cgi-bin/crater.cgi?dist=75&distanceUnits=1&diam=111&diameterUnits=1&pdens=111&pdens_select=0&vel=111&velocityUnits=1&theta=45&tdens=2500&wdepth=0&wdepthUnits=1 \n",
      "Time Cost:  2557 ms\n",
      "\n"
     ]
    },
    {
     "ename": "KeyboardInterrupt",
     "evalue": "",
     "output_type": "error",
     "traceback": [
      "\u001b[0;31m---------------------------------------------------------------------------\u001b[0m",
      "\u001b[0;31mKeyboardInterrupt\u001b[0m                         Traceback (most recent call last)",
      "\u001b[0;32m<ipython-input-109-ec08f34b3125>\u001b[0m in \u001b[0;36m<module>\u001b[0;34m\u001b[0m\n\u001b[1;32m      1\u001b[0m \u001b[0mtimes\u001b[0m \u001b[0;34m=\u001b[0m \u001b[0;34m[\u001b[0m\u001b[0mi\u001b[0m \u001b[0;32mfor\u001b[0m \u001b[0mi\u001b[0m \u001b[0;32min\u001b[0m \u001b[0mrange\u001b[0m\u001b[0;34m(\u001b[0m\u001b[0;36m1\u001b[0m\u001b[0;34m,\u001b[0m \u001b[0;36m200\u001b[0m\u001b[0;34m)\u001b[0m\u001b[0;34m]\u001b[0m\u001b[0;34m\u001b[0m\u001b[0;34m\u001b[0m\u001b[0m\n\u001b[0;32m----> 2\u001b[0;31m \u001b[0mrecords\u001b[0m \u001b[0;34m=\u001b[0m \u001b[0mrecord_times_get\u001b[0m\u001b[0;34m(\u001b[0m\u001b[0mtimes\u001b[0m\u001b[0;34m,\u001b[0m \u001b[0mget_request_url\u001b[0m\u001b[0;34m(\u001b[0m\u001b[0;34m)\u001b[0m\u001b[0;34m)\u001b[0m\u001b[0;34m\u001b[0m\u001b[0;34m\u001b[0m\u001b[0m\n\u001b[0m",
      "\u001b[0;32m<ipython-input-83-345220d8a6e4>\u001b[0m in \u001b[0;36mrecord_times_get\u001b[0;34m(times, url)\u001b[0m\n\u001b[1;32m     13\u001b[0m     \u001b[0;32mfor\u001b[0m \u001b[0mt\u001b[0m \u001b[0;32min\u001b[0m \u001b[0mtimes\u001b[0m\u001b[0;34m:\u001b[0m\u001b[0;34m\u001b[0m\u001b[0;34m\u001b[0m\u001b[0m\n\u001b[1;32m     14\u001b[0m         \u001b[0mparams\u001b[0m \u001b[0;34m=\u001b[0m \u001b[0;34m\" --url='%s' --requestMethod=get --requestTimes=%d\"\u001b[0m \u001b[0;34m%\u001b[0m \u001b[0;34m(\u001b[0m\u001b[0murl\u001b[0m\u001b[0;34m,\u001b[0m \u001b[0mt\u001b[0m\u001b[0;34m)\u001b[0m\u001b[0;34m\u001b[0m\u001b[0;34m\u001b[0m\u001b[0m\n\u001b[0;32m---> 15\u001b[0;31m         \u001b[0mrecords\u001b[0m\u001b[0;34m[\u001b[0m\u001b[0mt\u001b[0m\u001b[0;34m]\u001b[0m \u001b[0;34m=\u001b[0m \u001b[0mget_run_time\u001b[0m\u001b[0;34m(\u001b[0m\u001b[0mrun_command\u001b[0m\u001b[0;34m(\u001b[0m\u001b[0mcmd\u001b[0m \u001b[0;34m=\u001b[0m \u001b[0mcmd_prefix\u001b[0m \u001b[0;34m+\u001b[0m \u001b[0mparams\u001b[0m\u001b[0;34m)\u001b[0m\u001b[0;34m)\u001b[0m\u001b[0;34m\u001b[0m\u001b[0;34m\u001b[0m\u001b[0m\n\u001b[0m\u001b[1;32m     16\u001b[0m     \u001b[0;32mreturn\u001b[0m \u001b[0mrecords\u001b[0m\u001b[0;34m\u001b[0m\u001b[0;34m\u001b[0m\u001b[0m\n\u001b[1;32m     17\u001b[0m \u001b[0;34m\u001b[0m\u001b[0m\n",
      "\u001b[0;32m<ipython-input-101-3d928088a036>\u001b[0m in \u001b[0;36mrun_command\u001b[0;34m(cmd)\u001b[0m\n\u001b[1;32m      1\u001b[0m \u001b[0;32mdef\u001b[0m \u001b[0mrun_command\u001b[0m\u001b[0;34m(\u001b[0m\u001b[0mcmd\u001b[0m\u001b[0;34m)\u001b[0m\u001b[0;34m:\u001b[0m\u001b[0;34m\u001b[0m\u001b[0;34m\u001b[0m\u001b[0m\n\u001b[0;32m----> 2\u001b[0;31m     \u001b[0;32mreturn\u001b[0m \u001b[0mos\u001b[0m\u001b[0;34m.\u001b[0m\u001b[0mpopen\u001b[0m\u001b[0;34m(\u001b[0m\u001b[0mcmd\u001b[0m\u001b[0;34m)\u001b[0m\u001b[0;34m.\u001b[0m\u001b[0mread\u001b[0m\u001b[0;34m(\u001b[0m\u001b[0;34m)\u001b[0m\u001b[0;34m\u001b[0m\u001b[0;34m\u001b[0m\u001b[0m\n\u001b[0m\u001b[1;32m      3\u001b[0m \u001b[0;34m\u001b[0m\u001b[0m\n\u001b[1;32m      4\u001b[0m \u001b[0;32mdef\u001b[0m \u001b[0mget_run_time\u001b[0m\u001b[0;34m(\u001b[0m\u001b[0mresult\u001b[0m\u001b[0;34m)\u001b[0m\u001b[0;34m:\u001b[0m\u001b[0;34m\u001b[0m\u001b[0;34m\u001b[0m\u001b[0m\n\u001b[1;32m      5\u001b[0m     \u001b[0mprefix\u001b[0m \u001b[0;34m=\u001b[0m \u001b[0;34m\"Time Cost:  \"\u001b[0m\u001b[0;34m\u001b[0m\u001b[0;34m\u001b[0m\u001b[0m\n",
      "\u001b[0;31mKeyboardInterrupt\u001b[0m: "
     ]
    }
   ],
   "source": [
    "times = [i for i in range(1, 200)]\n",
    "records = record_times_get(times, get_request_url())"
   ]
  },
  {
   "cell_type": "code",
   "execution_count": 107,
   "id": "a0e7bf89",
   "metadata": {
    "scrolled": true
   },
   "outputs": [
    {
     "name": "stdout",
     "output_type": "stream",
     "text": [
      "http://121.36.81.191:50052/simulator\n",
      "Run request for 1 times to with Redis URL: http://121.36.81.191:50052/simulator \n",
      "Time Cost:  110 ms\n",
      "\n",
      "http://121.36.81.191:50052/simulator\n",
      "Run request for 10 times to with Redis URL: http://121.36.81.191:50052/simulator \n",
      "Time Cost:  126 ms\n",
      "\n",
      "http://121.36.81.191:50052/simulator\n",
      "Run request for 50 times to with Redis URL: http://121.36.81.191:50052/simulator \n",
      "Time Cost:  204 ms\n",
      "\n",
      "http://121.36.81.191:50052/simulator\n",
      "Run request for 100 times to with Redis URL: http://121.36.81.191:50052/simulator \n",
      "Time Cost:  315 ms\n",
      "\n",
      "http://121.36.81.191:50052/simulator\n",
      "Run request for 200 times to with Redis URL: http://121.36.81.191:50052/simulator \n",
      "Time Cost:  2113 ms\n",
      "\n",
      "http://121.36.81.191:50052/simulator\n",
      "Run request for 300 times to with Redis URL: http://121.36.81.191:50052/simulator \n",
      "Time Cost:  4117 ms\n",
      "\n",
      "http://121.36.81.191:50052/simulator\n",
      "Run request for 400 times to with Redis URL: http://121.36.81.191:50052/simulator \n",
      "Time Cost:  3125 ms\n",
      "\n",
      "http://121.36.81.191:50052/simulator\n",
      "Run request for 500 times to with Redis URL: http://121.36.81.191:50052/simulator \n",
      "Time Cost:  3914 ms\n",
      "\n"
     ]
    }
   ],
   "source": [
    "records_post = record_time_post(times, \"http://121.36.81.191:50052/simulator\")"
   ]
  },
  {
   "cell_type": "code",
   "execution_count": 108,
   "id": "0c458dc5",
   "metadata": {},
   "outputs": [
    {
     "name": "stdout",
     "output_type": "stream",
     "text": [
      "http://121.36.81.191:50052/simulator\n",
      "Run request for 1 times to with Redis URL: http://121.36.81.191:50052/simulatorWithRedis \n",
      "Time Cost:  110 ms\n",
      "\n",
      "http://121.36.81.191:50052/simulator\n",
      "Run request for 10 times to with Redis URL: http://121.36.81.191:50052/simulatorWithRedis \n",
      "Time Cost:  577 ms\n",
      "\n",
      "http://121.36.81.191:50052/simulator\n",
      "Run request for 50 times to with Redis URL: http://121.36.81.191:50052/simulatorWithRedis \n",
      "Time Cost:  144 ms\n",
      "\n",
      "http://121.36.81.191:50052/simulator\n",
      "Run request for 100 times to with Redis URL: http://121.36.81.191:50052/simulatorWithRedis \n",
      "Time Cost:  162 ms\n",
      "\n",
      "http://121.36.81.191:50052/simulator\n",
      "Run request for 200 times to with Redis URL: http://121.36.81.191:50052/simulatorWithRedis \n",
      "Time Cost:  2107 ms\n",
      "\n",
      "http://121.36.81.191:50052/simulator\n",
      "Run request for 300 times to with Redis URL: http://121.36.81.191:50052/simulatorWithRedis \n",
      "Time Cost:  2190 ms\n",
      "\n",
      "http://121.36.81.191:50052/simulator\n",
      "Run request for 400 times to with Redis URL: http://121.36.81.191:50052/simulatorWithRedis \n",
      "Time Cost:  3307 ms\n",
      "\n",
      "http://121.36.81.191:50052/simulator\n",
      "Run request for 500 times to with Redis URL: http://121.36.81.191:50052/simulatorWithRedis \n",
      "Time Cost:  3840 ms\n",
      "\n"
     ]
    }
   ],
   "source": [
    "records_redis = record_time_post(times, \"http://121.36.81.191:50052/simulatorWithRedis\")"
   ]
  },
  {
   "cell_type": "code",
   "execution_count": 105,
   "id": "b4f30621",
   "metadata": {},
   "outputs": [
    {
     "name": "stdout",
     "output_type": "stream",
     "text": [
      "([1, 10, 50, 100, 200, 300, 400, 500], [160.0, 582.0, 2545.0, 4886.0, 9681.0, 16407.0, 19363.0, 23932.0])\n"
     ]
    }
   ],
   "source": [
    "x = list(records.keys())\n",
    "y = [records[k] for k in x]\n",
    "print((x,y))\n",
    "\n",
    "x2 = list(records_post.keys())\n",
    "y2 = [records_post[k] for k in x]\n",
    "\n",
    "x3 = list(records_redis.keys())\n",
    "y3 = [records_redis[k] for k in x]\n",
    "\n",
    "data_index = [x, x2, x3]\n",
    "data = [y, y2, y3]\n"
   ]
  },
  {
   "cell_type": "code",
   "execution_count": 106,
   "id": "01e68bcd",
   "metadata": {},
   "outputs": [
    {
     "data": {
      "image/png": "[encoded data removed]",
      "text/plain": [
       "<Figure size 1440x1440 with 1 Axes>"
      ]
     },
     "metadata": {
      "needs_background": "light"
     },
     "output_type": "display_data"
    }
   ],
   "source": [
    "fig = plt.figure(figsize=(20, 20))\n",
    "ax1 = fig.add_subplot(111)\n",
    "ax1.margins(0.1)\n",
    "ax1.grid(True)\n",
    "\n",
    "color = ['k', 'r', 'b', 'g', 'c', 'y']\n",
    "shape = ['-','.']\n",
    "\n",
    "for i in range(len(data)):\n",
    "    ax1.plot(data_index[i], data[i], '%s%s-'%(color[i%6], shape[0]), \n",
    "         label='time')\n",
    "\n",
    "\n",
    "ax1.set_xlabel('iteration times', fontsize=16)\n",
    "ax1.set_ylabel('fitness value', fontsize=16)\n",
    "ax1.set_title('Convergence diagram', fontsize=16)\n",
    "ax1.legend(loc='best', fontsize=14);\n",
    "\n",
    "plt.savefig(\"./iteration.png\")"
   ]
  },
  {
   "cell_type": "code",
   "execution_count": 40,
   "id": "9d93dde0",
   "metadata": {},
   "outputs": [
    {
     "data": {
      "text/plain": [
       "\"./back-end-tests/manyRequest --url='http://121.36.81.191/cgi-bin/crater.cgi?dist=75&distanceUnits=1&diam=111&diameterUnits=1&pdens=111&pdens_select=0&vel=111&velocityUnits=1&theta=45&tdens=2500&wdepth=0&wdepthUnits=1' --requestMethod=get --requestTimes=1000\""
      ]
     },
     "execution_count": 40,
     "metadata": {},
     "output_type": "execute_result"
    }
   ],
   "source": [
    "requetsTimes = 1000\n",
    "params = \" --url='%s' --requestMethod=get --requestTimes=%d\" % (get_request_url(), requetsTimes)\n",
    "cmd_prefix + params"
   ]
  },
  {
   "cell_type": "code",
   "execution_count": 42,
   "id": "f0270562",
   "metadata": {},
   "outputs": [
    {
     "data": {
      "text/plain": [
       "215.0"
      ]
     },
     "execution_count": 42,
     "metadata": {},
     "output_type": "execute_result"
    }
   ],
   "source": [
    "get_run_time(run_command(cmd = cmd_prefix + params))"
   ]
  },
  {
   "cell_type": "code",
   "execution_count": null,
   "id": "99841b14",
   "metadata": {},
   "outputs": [],
   "source": []
  }
 ],
 "metadata": {
  "kernelspec": {
   "display_name": "Python 3",
   "language": "python",
   "name": "python3"
  },
  "language_info": {
   "codemirror_mode": {
    "name": "ipython",
    "version": 3
   },
   "file_extension": ".py",
   "mimetype": "text/x-python",
   "name": "python",
   "nbconvert_exporter": "python",
   "pygments_lexer": "ipython3",
   "version": "3.8.8"
  }
 },
 "nbformat": 4,
 "nbformat_minor": 5
}
