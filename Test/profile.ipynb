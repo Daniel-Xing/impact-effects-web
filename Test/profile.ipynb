{
 "cells": [
  {
   "cell_type": "code",
   "execution_count": 73,
   "id": "0f0118f2",
   "metadata": {},
   "outputs": [],
   "source": [
    "import requests\n",
    "import json\n",
    "\n",
    "import numpy as np\n",
    "import os\n",
    "import time\n",
    "import sys\n",
    "import numpy as np\n",
    "\n",
    "%matplotlib inline\n",
    "import numpy as np\n",
    "import matplotlib.pyplot as plt\n",
    "# from mpltools import annotation\n",
    "\n",
    "# some default font sizes for plots\n",
    "plt.rcParams['font.size'] = 12\n",
    "plt.rcParams['font.family'] = 'sans-serif'\n",
    "plt.rcParams['font.sans-serif'] = ['Arial', 'Dejavu Sans']"
   ]
  },
  {
   "cell_type": "markdown",
   "id": "c9d5ed80",
   "metadata": {},
   "source": [
    "## Untils Defination"
   ]
  },
  {
   "cell_type": "code",
   "execution_count": 74,
   "id": "2ae5996b",
   "metadata": {},
   "outputs": [],
   "source": [
    "cmd_prefix = \"./back-end-tests/manyRequest\""
   ]
  },
  {
   "cell_type": "code",
   "execution_count": 211,
   "id": "2e25130b",
   "metadata": {},
   "outputs": [],
   "source": [
    "def run_command(cmd):\n",
    "    return os.popen(cmd).read()\n",
    "\n",
    "def get_run_time(result):\n",
    "    prefix = \"Time Cost:  \"\n",
    "    print(result)\n",
    "    return float(result[result.index(prefix) + len(prefix):result.index(\" ms\")])\n",
    "\n",
    "def get_request_url(pdiameter = 100,\n",
    "    pdensity = 300,\n",
    "    velocity = 20,\n",
    "    theta = 45,\n",
    "    tdensity = 2500,\n",
    "    depth = 0,\n",
    "    distance = 100):\n",
    "    \n",
    "    URL = \"\"\"http://121.36.81.191/cgi-bin/crater.cgi?dist=%d&distanceUnits=1&diam=%d&diameterUnits=1&pdens=%d&pdens_select=0&vel=%d&velocityUnits=1&theta=%d&tdens=%d&wdepth=%d&wdepthUnits=1\"\"\" % (distance, pdiameter, pdensity, velocity, theta, tdensity, depth)\n",
    "    return URL"
   ]
  },
  {
   "cell_type": "code",
   "execution_count": 212,
   "id": "b4e31110",
   "metadata": {},
   "outputs": [],
   "source": [
    "def record_times_get(times, url, sleep = False):\n",
    "    \"\"\"\n",
    "    paramters:\n",
    "        times: slice or numpy.ndarray, \n",
    "                howMayTimes, request\n",
    "        url: string\n",
    "            address of get request\n",
    "    \"\"\"\n",
    "    \n",
    "    times = np.array(times)\n",
    "    records = {}\n",
    "    \n",
    "    for t in times:\n",
    "        params = \" --url='%s' --requestMethod=get --requestTimes=%d\" % (url, t)\n",
    "        records[t] = get_run_time(run_command(cmd = cmd_prefix + params))\n",
    "        if sleep:\n",
    "            time.sleep(1*60)\n",
    "    return records\n",
    "\n",
    "def record_time_post(times, url,\n",
    "                     pdiameter = 100,\n",
    "                    pdensity = 300,\n",
    "                    velocity = 20,\n",
    "                    theta = 45,\n",
    "                    tdensity = 2500,\n",
    "                    depth = 0,\n",
    "                    distance = 100,\n",
    "                    sleep = False):\n",
    "    \n",
    "    \"\"\"\n",
    "    paramters:\n",
    "        times: slice or numpy.ndarray, \n",
    "                howMayTimes, request\n",
    "        url: string\n",
    "            address of get request\n",
    "    \"\"\"\n",
    "    \n",
    "    times = np.array(times)\n",
    "    records = {}\n",
    "    params_data = \" --impactor_density=%d --impactor_diameter=%d --impactor_velocity=%d --impactor_theta=%d --target_density=%d --target_depth=%d --target_distance=%d \" % (\n",
    "    pdensity, pdiameter, velocity, theta, tdensity, depth, distance)\n",
    "    \n",
    "    for t in times:\n",
    "        params = \" --url='%s' --requestMethod=post --requestTimes=%d \" % (url, t)\n",
    "        records[t] = get_run_time(run_command(cmd = cmd_prefix + params + params_data))\n",
    "        if sleep:\n",
    "            time.sleep(1*60)\n",
    "        \n",
    "    return records\n",
    "    \n",
    "    "
   ]
  },
  {
   "cell_type": "code",
   "execution_count": 115,
   "id": "fa4e5364-9396-430f-95fc-0e891a843f88",
   "metadata": {},
   "outputs": [
    {
     "name": "stderr",
     "output_type": "stream",
     "text": [
      "From github.com:acse-dx121/impact-effects-web\n",
      "   6362a2d..94a8e0a  main       -> origin/main\n"
     ]
    },
    {
     "data": {
      "text/plain": [
       "'Updating 6362a2d..94a8e0a\\nFast-forward\\n Test/back-end-tests/manyRequest.go | 32 +++++++++++++++-----------------\\n 1 file changed, 15 insertions(+), 17 deletions(-)\\n'"
      ]
     },
     "execution_count": 115,
     "metadata": {},
     "output_type": "execute_result"
    }
   ],
   "source": [
    "run_command(\"git pull && cd back-end-tests/ && go build manyRequest.go\")"
   ]
  },
  {
   "cell_type": "markdown",
   "id": "94b9a21e",
   "metadata": {},
   "source": [
    "## Collect Runtime"
   ]
  },
  {
   "cell_type": "markdown",
   "id": "57b5a8d0",
   "metadata": {},
   "source": [
    "### Old Web Tool"
   ]
  },
  {
   "cell_type": "code",
   "execution_count": 199,
   "id": "24e02381-a6e5-4550-8fbf-2c4e248020d2",
   "metadata": {},
   "outputs": [],
   "source": [
    "times = [i for i in range(20, 500, 20)]"
   ]
  },
  {
   "cell_type": "code",
   "execution_count": 215,
   "id": "f8c2707a",
   "metadata": {
    "scrolled": true,
    "tags": []
   },
   "outputs": [
    {
     "name": "stdout",
     "output_type": "stream",
     "text": [
      "http://121.36.81.191:50052/simulator\n",
      "Run request for 20 times to with Redis URL: http://121.36.81.191/cgi-bin/crater.cgi?dist=100&distanceUnits=1&diam=100&diameterUnits=1&pdens=300&pdens_select=0&vel=20&velocityUnits=1&theta=45&tdens=2500&wdepth=0&wdepthUnits=1 \n",
      "Time Cost:  1610 ms\n",
      "\n",
      "http://121.36.81.191:50052/simulator\n",
      "Run request for 40 times to with Redis URL: http://121.36.81.191/cgi-bin/crater.cgi?dist=100&distanceUnits=1&diam=100&diameterUnits=1&pdens=300&pdens_select=0&vel=20&velocityUnits=1&theta=45&tdens=2500&wdepth=0&wdepthUnits=1 \n",
      "Time Cost:  1935 ms\n",
      "\n",
      "http://121.36.81.191:50052/simulator\n",
      "Run request for 60 times to with Redis URL: http://121.36.81.191/cgi-bin/crater.cgi?dist=100&distanceUnits=1&diam=100&diameterUnits=1&pdens=300&pdens_select=0&vel=20&velocityUnits=1&theta=45&tdens=2500&wdepth=0&wdepthUnits=1 \n",
      "Time Cost:  2943 ms\n",
      "\n",
      "http://121.36.81.191:50052/simulator\n",
      "Run request for 80 times to with Redis URL: http://121.36.81.191/cgi-bin/crater.cgi?dist=100&distanceUnits=1&diam=100&diameterUnits=1&pdens=300&pdens_select=0&vel=20&velocityUnits=1&theta=45&tdens=2500&wdepth=0&wdepthUnits=1 \n",
      "Time Cost:  3930 ms\n",
      "\n",
      "http://121.36.81.191:50052/simulator\n",
      "Run request for 100 times to with Redis URL: http://121.36.81.191/cgi-bin/crater.cgi?dist=100&distanceUnits=1&diam=100&diameterUnits=1&pdens=300&pdens_select=0&vel=20&velocityUnits=1&theta=45&tdens=2500&wdepth=0&wdepthUnits=1 \n",
      "Time Cost:  4811 ms\n",
      "\n",
      "http://121.36.81.191:50052/simulator\n",
      "Run request for 120 times to with Redis URL: http://121.36.81.191/cgi-bin/crater.cgi?dist=100&distanceUnits=1&diam=100&diameterUnits=1&pdens=300&pdens_select=0&vel=20&velocityUnits=1&theta=45&tdens=2500&wdepth=0&wdepthUnits=1 \n",
      "Time Cost:  5790 ms\n",
      "\n",
      "http://121.36.81.191:50052/simulator\n",
      "Run request for 140 times to with Redis URL: http://121.36.81.191/cgi-bin/crater.cgi?dist=100&distanceUnits=1&diam=100&diameterUnits=1&pdens=300&pdens_select=0&vel=20&velocityUnits=1&theta=45&tdens=2500&wdepth=0&wdepthUnits=1 \n",
      "Time Cost:  6750 ms\n",
      "\n",
      "http://121.36.81.191:50052/simulator\n",
      "Run request for 160 times to with Redis URL: http://121.36.81.191/cgi-bin/crater.cgi?dist=100&distanceUnits=1&diam=100&diameterUnits=1&pdens=300&pdens_select=0&vel=20&velocityUnits=1&theta=45&tdens=2500&wdepth=0&wdepthUnits=1 \n",
      "Time Cost:  7794 ms\n",
      "\n",
      "http://121.36.81.191:50052/simulator\n",
      "Run request for 180 times to with Redis URL: http://121.36.81.191/cgi-bin/crater.cgi?dist=100&distanceUnits=1&diam=100&diameterUnits=1&pdens=300&pdens_select=0&vel=20&velocityUnits=1&theta=45&tdens=2500&wdepth=0&wdepthUnits=1 \n",
      "Time Cost:  8950 ms\n",
      "\n",
      "http://121.36.81.191:50052/simulator\n",
      "Run request for 200 times to with Redis URL: http://121.36.81.191/cgi-bin/crater.cgi?dist=100&distanceUnits=1&diam=100&diameterUnits=1&pdens=300&pdens_select=0&vel=20&velocityUnits=1&theta=45&tdens=2500&wdepth=0&wdepthUnits=1 \n",
      "Time Cost:  9683 ms\n",
      "\n",
      "http://121.36.81.191:50052/simulator\n",
      "Run request for 220 times to with Redis URL: http://121.36.81.191/cgi-bin/crater.cgi?dist=100&distanceUnits=1&diam=100&diameterUnits=1&pdens=300&pdens_select=0&vel=20&velocityUnits=1&theta=45&tdens=2500&wdepth=0&wdepthUnits=1 \n",
      "Time Cost:  10807 ms\n",
      "\n",
      "http://121.36.81.191:50052/simulator\n",
      "Run request for 240 times to with Redis URL: http://121.36.81.191/cgi-bin/crater.cgi?dist=100&distanceUnits=1&diam=100&diameterUnits=1&pdens=300&pdens_select=0&vel=20&velocityUnits=1&theta=45&tdens=2500&wdepth=0&wdepthUnits=1 \n",
      "Time Cost:  11622 ms\n",
      "\n",
      "http://121.36.81.191:50052/simulator\n",
      "Run request for 260 times to with Redis URL: http://121.36.81.191/cgi-bin/crater.cgi?dist=100&distanceUnits=1&diam=100&diameterUnits=1&pdens=300&pdens_select=0&vel=20&velocityUnits=1&theta=45&tdens=2500&wdepth=0&wdepthUnits=1 \n",
      "Time Cost:  12728 ms\n",
      "\n",
      "http://121.36.81.191:50052/simulator\n",
      "Run request for 280 times to with Redis URL: http://121.36.81.191/cgi-bin/crater.cgi?dist=100&distanceUnits=1&diam=100&diameterUnits=1&pdens=300&pdens_select=0&vel=20&velocityUnits=1&theta=45&tdens=2500&wdepth=0&wdepthUnits=1 \n",
      "Time Cost:  13554 ms\n",
      "\n",
      "http://121.36.81.191:50052/simulator\n",
      "Run request for 300 times to with Redis URL: http://121.36.81.191/cgi-bin/crater.cgi?dist=100&distanceUnits=1&diam=100&diameterUnits=1&pdens=300&pdens_select=0&vel=20&velocityUnits=1&theta=45&tdens=2500&wdepth=0&wdepthUnits=1 \n",
      "Time Cost:  14720 ms\n",
      "\n",
      "http://121.36.81.191:50052/simulator\n",
      "Run request for 320 times to with Redis URL: http://121.36.81.191/cgi-bin/crater.cgi?dist=100&distanceUnits=1&diam=100&diameterUnits=1&pdens=300&pdens_select=0&vel=20&velocityUnits=1&theta=45&tdens=2500&wdepth=0&wdepthUnits=1 \n",
      "Time Cost:  16041 ms\n",
      "\n",
      "http://121.36.81.191:50052/simulator\n",
      "Run request for 340 times to with Redis URL: http://121.36.81.191/cgi-bin/crater.cgi?dist=100&distanceUnits=1&diam=100&diameterUnits=1&pdens=300&pdens_select=0&vel=20&velocityUnits=1&theta=45&tdens=2500&wdepth=0&wdepthUnits=1 \n",
      "Time Cost:  16771 ms\n",
      "\n",
      "http://121.36.81.191:50052/simulator\n",
      "Run request for 360 times to with Redis URL: http://121.36.81.191/cgi-bin/crater.cgi?dist=100&distanceUnits=1&diam=100&diameterUnits=1&pdens=300&pdens_select=0&vel=20&velocityUnits=1&theta=45&tdens=2500&wdepth=0&wdepthUnits=1 \n",
      "Time Cost:  17461 ms\n",
      "\n",
      "http://121.36.81.191:50052/simulator\n",
      "Run request for 380 times to with Redis URL: http://121.36.81.191/cgi-bin/crater.cgi?dist=100&distanceUnits=1&diam=100&diameterUnits=1&pdens=300&pdens_select=0&vel=20&velocityUnits=1&theta=45&tdens=2500&wdepth=0&wdepthUnits=1 \n",
      "Time Cost:  18745 ms\n",
      "\n",
      "http://121.36.81.191:50052/simulator\n",
      "Run request for 400 times to with Redis URL: http://121.36.81.191/cgi-bin/crater.cgi?dist=100&distanceUnits=1&diam=100&diameterUnits=1&pdens=300&pdens_select=0&vel=20&velocityUnits=1&theta=45&tdens=2500&wdepth=0&wdepthUnits=1 \n",
      "Time Cost:  19741 ms\n",
      "\n",
      "http://121.36.81.191:50052/simulator\n",
      "Run request for 420 times to with Redis URL: http://121.36.81.191/cgi-bin/crater.cgi?dist=100&distanceUnits=1&diam=100&diameterUnits=1&pdens=300&pdens_select=0&vel=20&velocityUnits=1&theta=45&tdens=2500&wdepth=0&wdepthUnits=1 \n",
      "Time Cost:  20639 ms\n",
      "\n",
      "http://121.36.81.191:50052/simulator\n",
      "Run request for 440 times to with Redis URL: http://121.36.81.191/cgi-bin/crater.cgi?dist=100&distanceUnits=1&diam=100&diameterUnits=1&pdens=300&pdens_select=0&vel=20&velocityUnits=1&theta=45&tdens=2500&wdepth=0&wdepthUnits=1 \n",
      "Time Cost:  22127 ms\n",
      "\n",
      "http://121.36.81.191:50052/simulator\n",
      "Run request for 460 times to with Redis URL: http://121.36.81.191/cgi-bin/crater.cgi?dist=100&distanceUnits=1&diam=100&diameterUnits=1&pdens=300&pdens_select=0&vel=20&velocityUnits=1&theta=45&tdens=2500&wdepth=0&wdepthUnits=1 \n",
      "Time Cost:  22697 ms\n",
      "\n",
      "http://121.36.81.191:50052/simulator\n",
      "Run request for 480 times to with Redis URL: http://121.36.81.191/cgi-bin/crater.cgi?dist=100&distanceUnits=1&diam=100&diameterUnits=1&pdens=300&pdens_select=0&vel=20&velocityUnits=1&theta=45&tdens=2500&wdepth=0&wdepthUnits=1 \n",
      "Time Cost:  23662 ms\n",
      "\n"
     ]
    }
   ],
   "source": [
    "records = record_times_get(times, get_request_url(), sleep = True)"
   ]
  },
  {
   "cell_type": "markdown",
   "id": "2ec5c459-788f-4dfc-ba8f-67af8fe892e3",
   "metadata": {},
   "source": [
    "### new web tool"
   ]
  },
  {
   "cell_type": "code",
   "execution_count": 213,
   "id": "a0e7bf89",
   "metadata": {
    "scrolled": true,
    "tags": []
   },
   "outputs": [
    {
     "name": "stdout",
     "output_type": "stream",
     "text": [
      "http://121.36.81.191:50052/simulator\n",
      "Run request for 20 times to with Redis URL: http://121.36.81.191:50052/simulator \n",
      "Time Cost:  197 ms\n",
      "\n",
      "http://121.36.81.191:50052/simulator\n",
      "Run request for 40 times to with Redis URL: http://121.36.81.191:50052/simulator \n",
      "Time Cost:  89 ms\n",
      "\n",
      "http://121.36.81.191:50052/simulator\n",
      "Run request for 60 times to with Redis URL: http://121.36.81.191:50052/simulator \n",
      "Time Cost:  144 ms\n",
      "\n",
      "http://121.36.81.191:50052/simulator\n",
      "Run request for 80 times to with Redis URL: http://121.36.81.191:50052/simulator \n",
      "Time Cost:  189 ms\n",
      "\n",
      "http://121.36.81.191:50052/simulator\n",
      "Run request for 100 times to with Redis URL: http://121.36.81.191:50052/simulator \n",
      "Time Cost:  231 ms\n",
      "\n",
      "http://121.36.81.191:50052/simulator\n",
      "Run request for 120 times to with Redis URL: http://121.36.81.191:50052/simulator \n",
      "Time Cost:  280 ms\n",
      "\n",
      "http://121.36.81.191:50052/simulator\n",
      "Run request for 140 times to with Redis URL: http://121.36.81.191:50052/simulator \n",
      "Time Cost:  365 ms\n",
      "\n",
      "http://121.36.81.191:50052/simulator\n",
      "Run request for 160 times to with Redis URL: http://121.36.81.191:50052/simulator \n",
      "Time Cost:  378 ms\n",
      "\n",
      "http://121.36.81.191:50052/simulator\n",
      "Run request for 180 times to with Redis URL: http://121.36.81.191:50052/simulator \n",
      "Time Cost:  429 ms\n",
      "\n",
      "http://121.36.81.191:50052/simulator\n",
      "Run request for 200 times to with Redis URL: http://121.36.81.191:50052/simulator \n",
      "Time Cost:  562 ms\n",
      "\n",
      "http://121.36.81.191:50052/simulator\n",
      "Run request for 220 times to with Redis URL: http://121.36.81.191:50052/simulator \n",
      "Time Cost:  509 ms\n",
      "\n",
      "http://121.36.81.191:50052/simulator\n",
      "Run request for 240 times to with Redis URL: http://121.36.81.191:50052/simulator \n",
      "Time Cost:  751 ms\n",
      "\n",
      "http://121.36.81.191:50052/simulator\n",
      "Run request for 260 times to with Redis URL: http://121.36.81.191:50052/simulator \n",
      "Time Cost:  1021 ms\n",
      "\n",
      "http://121.36.81.191:50052/simulator\n",
      "Run request for 280 times to with Redis URL: http://121.36.81.191:50052/simulator \n",
      "Time Cost:  1232 ms\n",
      "\n",
      "http://121.36.81.191:50052/simulator\n",
      "Run request for 300 times to with Redis URL: http://121.36.81.191:50052/simulator \n",
      "Time Cost:  1061 ms\n",
      "\n",
      "http://121.36.81.191:50052/simulator\n",
      "Run request for 320 times to with Redis URL: http://121.36.81.191:50052/simulator \n",
      "Time Cost:  1451 ms\n",
      "\n",
      "http://121.36.81.191:50052/simulator\n",
      "Run request for 340 times to with Redis URL: http://121.36.81.191:50052/simulator \n",
      "Time Cost:  1428 ms\n",
      "\n",
      "http://121.36.81.191:50052/simulator\n",
      "Run request for 360 times to with Redis URL: http://121.36.81.191:50052/simulator \n",
      "Time Cost:  1510 ms\n",
      "\n",
      "http://121.36.81.191:50052/simulator\n",
      "Run request for 380 times to with Redis URL: http://121.36.81.191:50052/simulator \n",
      "Time Cost:  1215 ms\n",
      "\n",
      "http://121.36.81.191:50052/simulator\n",
      "Run request for 400 times to with Redis URL: http://121.36.81.191:50052/simulator \n",
      "Time Cost:  1714 ms\n",
      "\n",
      "http://121.36.81.191:50052/simulator\n",
      "Run request for 420 times to with Redis URL: http://121.36.81.191:50052/simulator \n",
      "Time Cost:  2133 ms\n",
      "\n",
      "http://121.36.81.191:50052/simulator\n",
      "Run request for 440 times to with Redis URL: http://121.36.81.191:50052/simulator \n",
      "Time Cost:  2988 ms\n",
      "\n",
      "http://121.36.81.191:50052/simulator\n",
      "Run request for 460 times to with Redis URL: http://121.36.81.191:50052/simulator \n",
      "Time Cost:  4630 ms\n",
      "\n",
      "http://121.36.81.191:50052/simulator\n",
      "Run request for 480 times to with Redis URL: http://121.36.81.191:50052/simulator \n",
      "Time Cost:  5170 ms\n",
      "\n"
     ]
    }
   ],
   "source": [
    "records_post = record_time_post(times, \"http://121.36.81.191:50052/simulator\", sleep = True)"
   ]
  },
  {
   "cell_type": "code",
   "execution_count": 214,
   "id": "0c458dc5",
   "metadata": {
    "tags": []
   },
   "outputs": [
    {
     "name": "stdout",
     "output_type": "stream",
     "text": [
      "http://121.36.81.191:50052/simulator\n",
      "Run request for 20 times to with Redis URL: http://121.36.81.191:50052/simulatorWithRedis \n",
      "Time Cost:  61 ms\n",
      "\n",
      "http://121.36.81.191:50052/simulator\n",
      "Run request for 40 times to with Redis URL: http://121.36.81.191:50052/simulatorWithRedis \n",
      "Time Cost:  49 ms\n",
      "\n",
      "http://121.36.81.191:50052/simulator\n",
      "Run request for 60 times to with Redis URL: http://121.36.81.191:50052/simulatorWithRedis \n",
      "Time Cost:  33 ms\n",
      "\n",
      "http://121.36.81.191:50052/simulator\n",
      "Run request for 80 times to with Redis URL: http://121.36.81.191:50052/simulatorWithRedis \n",
      "Time Cost:  47 ms\n",
      "\n",
      "http://121.36.81.191:50052/simulator\n",
      "Run request for 100 times to with Redis URL: http://121.36.81.191:50052/simulatorWithRedis \n",
      "Time Cost:  48 ms\n",
      "\n",
      "http://121.36.81.191:50052/simulator\n",
      "Run request for 120 times to with Redis URL: http://121.36.81.191:50052/simulatorWithRedis \n",
      "Time Cost:  99 ms\n",
      "\n",
      "http://121.36.81.191:50052/simulator\n",
      "Run request for 140 times to with Redis URL: http://121.36.81.191:50052/simulatorWithRedis \n",
      "Time Cost:  81 ms\n",
      "\n",
      "http://121.36.81.191:50052/simulator\n",
      "Run request for 160 times to with Redis URL: http://121.36.81.191:50052/simulatorWithRedis \n",
      "Time Cost:  145 ms\n",
      "\n",
      "http://121.36.81.191:50052/simulator\n",
      "Run request for 180 times to with Redis URL: http://121.36.81.191:50052/simulatorWithRedis \n",
      "Time Cost:  116 ms\n",
      "\n",
      "http://121.36.81.191:50052/simulator\n",
      "Run request for 200 times to with Redis URL: http://121.36.81.191:50052/simulatorWithRedis \n",
      "Time Cost:  116 ms\n",
      "\n",
      "http://121.36.81.191:50052/simulator\n",
      "Run request for 220 times to with Redis URL: http://121.36.81.191:50052/simulatorWithRedis \n",
      "Time Cost:  128 ms\n",
      "\n",
      "http://121.36.81.191:50052/simulator\n",
      "Run request for 240 times to with Redis URL: http://121.36.81.191:50052/simulatorWithRedis \n",
      "Time Cost:  135 ms\n",
      "\n",
      "http://121.36.81.191:50052/simulator\n",
      "Run request for 260 times to with Redis URL: http://121.36.81.191:50052/simulatorWithRedis \n",
      "Time Cost:  170 ms\n",
      "\n",
      "http://121.36.81.191:50052/simulator\n",
      "Run request for 280 times to with Redis URL: http://121.36.81.191:50052/simulatorWithRedis \n",
      "Time Cost:  166 ms\n",
      "\n",
      "http://121.36.81.191:50052/simulator\n",
      "Run request for 300 times to with Redis URL: http://121.36.81.191:50052/simulatorWithRedis \n",
      "Time Cost:  172 ms\n",
      "\n",
      "http://121.36.81.191:50052/simulator\n",
      "Run request for 320 times to with Redis URL: http://121.36.81.191:50052/simulatorWithRedis \n",
      "Time Cost:  205 ms\n",
      "\n",
      "http://121.36.81.191:50052/simulator\n",
      "Run request for 340 times to with Redis URL: http://121.36.81.191:50052/simulatorWithRedis \n",
      "Time Cost:  208 ms\n",
      "\n",
      "http://121.36.81.191:50052/simulator\n",
      "Run request for 360 times to with Redis URL: http://121.36.81.191:50052/simulatorWithRedis \n",
      "Time Cost:  223 ms\n",
      "\n",
      "http://121.36.81.191:50052/simulator\n",
      "Run request for 380 times to with Redis URL: http://121.36.81.191:50052/simulatorWithRedis \n",
      "Time Cost:  220 ms\n",
      "\n",
      "http://121.36.81.191:50052/simulator\n",
      "Run request for 400 times to with Redis URL: http://121.36.81.191:50052/simulatorWithRedis \n",
      "Time Cost:  239 ms\n",
      "\n",
      "http://121.36.81.191:50052/simulator\n",
      "Run request for 420 times to with Redis URL: http://121.36.81.191:50052/simulatorWithRedis \n",
      "Time Cost:  312 ms\n",
      "\n",
      "http://121.36.81.191:50052/simulator\n",
      "Run request for 440 times to with Redis URL: http://121.36.81.191:50052/simulatorWithRedis \n",
      "Time Cost:  272 ms\n",
      "\n",
      "http://121.36.81.191:50052/simulator\n",
      "Run request for 460 times to with Redis URL: http://121.36.81.191:50052/simulatorWithRedis \n",
      "Time Cost:  531 ms\n",
      "\n",
      "http://121.36.81.191:50052/simulator\n",
      "Run request for 480 times to with Redis URL: http://121.36.81.191:50052/simulatorWithRedis \n",
      "Time Cost:  796 ms\n",
      "\n"
     ]
    }
   ],
   "source": [
    "records_redis = record_time_post(times, \"http://121.36.81.191:50052/simulatorWithRedis\", sleep = True)"
   ]
  },
  {
   "cell_type": "markdown",
   "id": "4af1dd53-d7c2-449c-99d8-2acf18af5f3e",
   "metadata": {},
   "source": [
    "### plot the results"
   ]
  },
  {
   "cell_type": "code",
   "execution_count": 216,
   "id": "b4f30621",
   "metadata": {
    "tags": []
   },
   "outputs": [
    {
     "name": "stdout",
     "output_type": "stream",
     "text": [
      "([20, 40, 60, 80, 100, 120, 140, 160, 180, 200, 220, 240, 260, 280, 300, 320, 340, 360, 380, 400, 420, 440, 460, 480], [1610.0, 1935.0, 2943.0, 3930.0, 4811.0, 5790.0, 6750.0, 7794.0, 8950.0, 9683.0, 10807.0, 11622.0, 12728.0, 13554.0, 14720.0, 16041.0, 16771.0, 17461.0, 18745.0, 19741.0, 20639.0, 22127.0, 22697.0, 23662.0])\n"
     ]
    }
   ],
   "source": [
    "x = list(records.keys())\n",
    "y = [records[k] for k in x]\n",
    "print((x,y))\n",
    "\n",
    "x2 = list(records_post.keys())\n",
    "y2 = [records_post[k] for k in x]\n",
    "\n",
    "x3 = list(records_redis.keys())\n",
    "y3 = [records_redis[k] for k in x]\n",
    "\n",
    "data_index = [x, x2, x3]\n",
    "data = [y, y2, y3]\n"
   ]
  },
  {
   "cell_type": "code",
   "execution_count": 217,
   "id": "01e68bcd",
   "metadata": {},
   "outputs": [
    {
     "data": {
      "image/png": "[encoded data removed]",
      "text/plain": [
       "<Figure size 1440x720 with 1 Axes>"
      ]
     },
     "metadata": {
      "needs_background": "light"
     },
     "output_type": "display_data"
    }
   ],
   "source": [
    "fig = plt.figure(figsize=(20, 10))\n",
    "ax1 = fig.add_subplot(111)\n",
    "ax1.margins(0.1)\n",
    "ax1.grid(True)\n",
    "\n",
    "color = ['k', 'r', 'b', 'g', 'c', 'y']\n",
    "shape = ['-','.']\n",
    "labels = [\"original Impact Earth Program\", \"New ImpactEarth (based on golang)\", \"New ImpactEarth with redis(based on golang)\"]\n",
    "\n",
    "for i in range(len(data)):\n",
    "    ax1.plot(data_index[i], data[i], '%s%s-'%(color[i%6], shape[0]), \n",
    "         label=labels[i])\n",
    "\n",
    "\n",
    "ax1.set_xlabel('http requests in one times', fontsize=16)\n",
    "ax1.set_ylabel('time cost (ms)', fontsize=16)\n",
    "ax1.set_title('HTTP Request times', fontsize=16)\n",
    "ax1.legend(loc='best', fontsize=14);\n",
    "\n",
    "plt.savefig(\"../img/HTTP_Request_Time_new_valid_2.png\")"
   ]
  },
  {
   "cell_type": "markdown",
   "id": "c902cd7f-3f9d-4769-9281-16809504c9df",
   "metadata": {},
   "source": [
    "## Test with random Request"
   ]
  },
  {
   "cell_type": "code",
   "execution_count": 100,
   "id": "531c5bf0-d197-4258-b20f-b72a24c53834",
   "metadata": {},
   "outputs": [],
   "source": [
    "import random"
   ]
  },
  {
   "cell_type": "code",
   "execution_count": 141,
   "id": "33d37188-8829-4914-9b39-d821900a1e5a",
   "metadata": {},
   "outputs": [],
   "source": [
    "times = times = [i for i in range(1, 500, 50)]"
   ]
  },
  {
   "cell_type": "code",
   "execution_count": 177,
   "id": "fae94196-40e2-47ab-ba03-529020ae476a",
   "metadata": {},
   "outputs": [],
   "source": [
    "def random_float(down, upper):\n",
    "    return random.random() * (upper - down) + down\n",
    "\n",
    "def record_times_get_random(times, sleep = False):\n",
    "    \"\"\"\n",
    "    paramters:\n",
    "        times: slice or numpy.ndarray, \n",
    "                howMayTimes, request\n",
    "        url: string\n",
    "            address of get request\n",
    "    \"\"\"\n",
    "    \n",
    "    times = np.array(times)\n",
    "    records = {}\n",
    "    \n",
    "    for t in times:\n",
    "        density_choice = random.randint(0,2)\n",
    "        tdensity = 2500\n",
    "        depth = 0\n",
    "        \n",
    "        if density_choice == 0:\n",
    "            tdensity = 1000\n",
    "            depth = random.random()*1000 + 1000\n",
    "        elif density_choice == 1:\n",
    "            pass\n",
    "        else:\n",
    "            tdensity = 2750\n",
    "            depth = 0\n",
    "        \n",
    "        pdiameter = 10 ** random.randint(1, 5)\n",
    "        scaller = 0.4\n",
    "        \n",
    "        url = get_request_url(pdiameter = pdiameter, # m\n",
    "                        pdensity = random_float(1000, 8000),\n",
    "                        velocity = random_float(11.2, 72),\n",
    "                        theta = random_float(10, 80),\n",
    "                        tdensity = tdensity,\n",
    "                        depth = depth, \n",
    "                        distance = pdiameter * scaller) # scaller = 40 % km\n",
    "        # print(url)\n",
    "        params = \" --url='%s' --requestMethod=get --requestTimes=%d\" % (url, t)\n",
    "        records[t] = get_run_time(run_command(cmd = cmd_prefix + params))\n",
    "\n",
    "        if sleep:\n",
    "            time.sleep(90)\n",
    "\n",
    "    return records\n",
    "\n",
    "def record_time_post_random(times, url, sleep = False):\n",
    "    \n",
    "    \"\"\"\n",
    "    paramters:\n",
    "        times: slice or numpy.ndarray, \n",
    "                howMayTimes, request\n",
    "        url: string\n",
    "            address of get request\n",
    "    \"\"\"\n",
    "    \n",
    "    times = np.array(times)\n",
    "    records = {}\n",
    "    \n",
    "    for t in times:\n",
    "        density_choice = random.randint(0,2)\n",
    "        tdensity = 2500\n",
    "        depth = 0\n",
    "        \n",
    "        if density_choice == 0:\n",
    "            tdensity = 1000\n",
    "            depth = random.random()*1000 + 1000\n",
    "        elif density_choice == 1:\n",
    "            pass\n",
    "        else:\n",
    "            tdensity = 2750\n",
    "            depth = 0\n",
    "        \n",
    "        pdiameter = 10 ** random.randint(1, 5)\n",
    "        scaller = 0.4\n",
    "        \n",
    "        pdiameter = pdiameter # m\n",
    "        pdensity = random_float(1000, 8000)\n",
    "        velocity = random_float(11.2, 72)\n",
    "        theta = random_float(10, 80)\n",
    "        tdensity = tdensity\n",
    "        depth = depth\n",
    "        distance = pdiameter * scaller\n",
    "        \n",
    "        params_data = \" --impactor_density=%d --impactor_diameter=%d --impactor_velocity=%d --impactor_theta=%d --target_density=%d --target_depth=%d --target_distance=%d \" % (\n",
    "        pdensity, pdiameter, velocity, theta, tdensity, depth, distance)\n",
    "        \n",
    "        params = \" --url='%s' --requestMethod=post --requestTimes=%d \" % (url, t)\n",
    "        records[t] = get_run_time(run_command(cmd = cmd_prefix + params + params_data))\n",
    "\n",
    "        if sleep:\n",
    "            time.sleep(90)\n",
    "\n",
    "        \n",
    "    return records\n",
    "    \n",
    "    "
   ]
  },
  {
   "cell_type": "code",
   "execution_count": 179,
   "id": "a88e52b9-4ddb-4916-a854-44640e3aa18f",
   "metadata": {
    "tags": []
   },
   "outputs": [
    {
     "name": "stdout",
     "output_type": "stream",
     "text": [
      "http://121.36.81.191:50052/simulator\n",
      "Run request for 1 times to with Redis URL: http://121.36.81.191/cgi-bin/crater.cgi?dist=40&distanceUnits=1&diam=100&diameterUnits=1&pdens=7083&pdens_select=0&vel=63&velocityUnits=1&theta=36&tdens=2750&wdepth=0&wdepthUnits=1 \n",
      "Time Cost:  49 ms\n",
      "\n",
      "http://121.36.81.191:50052/simulator\n",
      "Run request for 51 times to with Redis URL: http://121.36.81.191/cgi-bin/crater.cgi?dist=40000&distanceUnits=1&diam=100000&diameterUnits=1&pdens=2967&pdens_select=0&vel=62&velocityUnits=1&theta=13&tdens=2500&wdepth=0&wdepthUnits=1 \n",
      "Time Cost:  2566 ms\n",
      "\n",
      "http://121.36.81.191:50052/simulator\n",
      "Run request for 101 times to with Redis URL: http://121.36.81.191/cgi-bin/crater.cgi?dist=4000&distanceUnits=1&diam=10000&diameterUnits=1&pdens=3924&pdens_select=0&vel=39&velocityUnits=1&theta=66&tdens=2750&wdepth=0&wdepthUnits=1 \n",
      "Time Cost:  4884 ms\n",
      "\n",
      "http://121.36.81.191:50052/simulator\n",
      "Run request for 151 times to with Redis URL: http://121.36.81.191/cgi-bin/crater.cgi?dist=40&distanceUnits=1&diam=100&diameterUnits=1&pdens=1279&pdens_select=0&vel=50&velocityUnits=1&theta=26&tdens=2500&wdepth=0&wdepthUnits=1 \n",
      "Time Cost:  7263 ms\n",
      "\n",
      "http://121.36.81.191:50052/simulator\n",
      "Run request for 201 times to with Redis URL: http://121.36.81.191/cgi-bin/crater.cgi?dist=4&distanceUnits=1&diam=10&diameterUnits=1&pdens=3215&pdens_select=0&vel=26&velocityUnits=1&theta=24&tdens=2750&wdepth=0&wdepthUnits=1 \n",
      "Time Cost:  9705 ms\n",
      "\n",
      "http://121.36.81.191:50052/simulator\n",
      "Run request for 251 times to with Redis URL: http://121.36.81.191/cgi-bin/crater.cgi?dist=4&distanceUnits=1&diam=10&diameterUnits=1&pdens=3828&pdens_select=0&vel=13&velocityUnits=1&theta=10&tdens=2750&wdepth=0&wdepthUnits=1 \n",
      "Time Cost:  12076 ms\n",
      "\n",
      "http://121.36.81.191:50052/simulator\n",
      "Run request for 301 times to with Redis URL: http://121.36.81.191/cgi-bin/crater.cgi?dist=400&distanceUnits=1&diam=1000&diameterUnits=1&pdens=4642&pdens_select=0&vel=46&velocityUnits=1&theta=46&tdens=2750&wdepth=0&wdepthUnits=1 \n",
      "Time Cost:  14484 ms\n",
      "\n",
      "http://121.36.81.191:50052/simulator\n",
      "Run request for 351 times to with Redis URL: http://121.36.81.191/cgi-bin/crater.cgi?dist=40&distanceUnits=1&diam=100&diameterUnits=1&pdens=3307&pdens_select=0&vel=23&velocityUnits=1&theta=37&tdens=2500&wdepth=0&wdepthUnits=1 \n",
      "Time Cost:  17055 ms\n",
      "\n",
      "http://121.36.81.191:50052/simulator\n",
      "Run request for 401 times to with Redis URL: http://121.36.81.191/cgi-bin/crater.cgi?dist=4&distanceUnits=1&diam=10&diameterUnits=1&pdens=3331&pdens_select=0&vel=62&velocityUnits=1&theta=41&tdens=1000&wdepth=1701&wdepthUnits=1 \n",
      "Time Cost:  19728 ms\n",
      "\n",
      "http://121.36.81.191:50052/simulator\n",
      "Run request for 451 times to with Redis URL: http://121.36.81.191/cgi-bin/crater.cgi?dist=4000&distanceUnits=1&diam=10000&diameterUnits=1&pdens=3223&pdens_select=0&vel=53&velocityUnits=1&theta=51&tdens=1000&wdepth=1204&wdepthUnits=1 \n",
      "Time Cost:  21660 ms\n",
      "\n"
     ]
    }
   ],
   "source": [
    "records_random = record_times_get_random(times, sleep = True)"
   ]
  },
  {
   "cell_type": "code",
   "execution_count": 180,
   "id": "546ce7ec-a400-445d-a382-301b392f4630",
   "metadata": {},
   "outputs": [
    {
     "name": "stdout",
     "output_type": "stream",
     "text": [
      "http://121.36.81.191:50052/simulator\n",
      "Run request for 1 times to with Redis URL: http://121.36.81.191:50052/simulator \n",
      "Time Cost:  7 ms\n",
      "\n",
      "http://121.36.81.191:50052/simulator\n",
      "Run request for 51 times to with Redis URL: http://121.36.81.191:50052/simulator \n",
      "Time Cost:  156 ms\n",
      "\n",
      "http://121.36.81.191:50052/simulator\n",
      "Run request for 101 times to with Redis URL: http://121.36.81.191:50052/simulator \n",
      "Time Cost:  253 ms\n",
      "\n",
      "http://121.36.81.191:50052/simulator\n",
      "Run request for 151 times to with Redis URL: http://121.36.81.191:50052/simulator \n",
      "Time Cost:  498 ms\n",
      "\n",
      "http://121.36.81.191:50052/simulator\n",
      "Run request for 201 times to with Redis URL: http://121.36.81.191:50052/simulator \n",
      "Time Cost:  541 ms\n",
      "\n",
      "http://121.36.81.191:50052/simulator\n",
      "Run request for 251 times to with Redis URL: http://121.36.81.191:50052/simulator \n",
      "Time Cost:  706 ms\n",
      "\n",
      "http://121.36.81.191:50052/simulator\n",
      "Run request for 301 times to with Redis URL: http://121.36.81.191:50052/simulator \n",
      "Time Cost:  966 ms\n",
      "\n",
      "http://121.36.81.191:50052/simulator\n",
      "Run request for 351 times to with Redis URL: http://121.36.81.191:50052/simulator \n",
      "Time Cost:  975 ms\n",
      "\n",
      "http://121.36.81.191:50052/simulator\n",
      "Run request for 401 times to with Redis URL: http://121.36.81.191:50052/simulator \n",
      "Time Cost:  2810 ms\n",
      "\n",
      "http://121.36.81.191:50052/simulator\n",
      "Run request for 451 times to with Redis URL: http://121.36.81.191:50052/simulator \n",
      "Time Cost:  1402 ms\n",
      "\n"
     ]
    }
   ],
   "source": [
    "records_post_random = record_time_post_random(times, \"http://121.36.81.191:50052/simulator\", sleep = True)"
   ]
  },
  {
   "cell_type": "code",
   "execution_count": 181,
   "id": "39fe4102-1a42-4a91-a872-f08279ccee68",
   "metadata": {},
   "outputs": [
    {
     "name": "stdout",
     "output_type": "stream",
     "text": [
      "http://121.36.81.191:50052/simulator\n",
      "Run request for 1 times to with Redis URL: http://121.36.81.191:50052/simulatorWithRedis \n",
      "Time Cost:  10 ms\n",
      "\n",
      "http://121.36.81.191:50052/simulator\n",
      "Run request for 51 times to with Redis URL: http://121.36.81.191:50052/simulatorWithRedis \n",
      "Time Cost:  96 ms\n",
      "\n",
      "http://121.36.81.191:50052/simulator\n",
      "Run request for 101 times to with Redis URL: http://121.36.81.191:50052/simulatorWithRedis \n",
      "Time Cost:  263 ms\n",
      "\n",
      "http://121.36.81.191:50052/simulator\n",
      "Run request for 151 times to with Redis URL: http://121.36.81.191:50052/simulatorWithRedis \n",
      "Time Cost:  430 ms\n",
      "\n",
      "http://121.36.81.191:50052/simulator\n",
      "Run request for 201 times to with Redis URL: http://121.36.81.191:50052/simulatorWithRedis \n",
      "Time Cost:  533 ms\n",
      "\n",
      "http://121.36.81.191:50052/simulator\n",
      "Run request for 251 times to with Redis URL: http://121.36.81.191:50052/simulatorWithRedis \n",
      "Time Cost:  311 ms\n",
      "\n",
      "http://121.36.81.191:50052/simulator\n",
      "Run request for 301 times to with Redis URL: http://121.36.81.191:50052/simulatorWithRedis \n",
      "Time Cost:  799 ms\n",
      "\n",
      "http://121.36.81.191:50052/simulator\n",
      "Run request for 351 times to with Redis URL: http://121.36.81.191:50052/simulatorWithRedis \n",
      "Time Cost:  260 ms\n",
      "\n",
      "http://121.36.81.191:50052/simulator\n",
      "Run request for 401 times to with Redis URL: http://121.36.81.191:50052/simulatorWithRedis \n",
      "Time Cost:  269 ms\n",
      "\n",
      "http://121.36.81.191:50052/simulator\n",
      "Run request for 451 times to with Redis URL: http://121.36.81.191:50052/simulatorWithRedis \n",
      "Time Cost:  231 ms\n",
      "\n"
     ]
    }
   ],
   "source": [
    "records_redis_random = record_time_post_random(times, \"http://121.36.81.191:50052/simulatorWithRedis\", sleep = True)"
   ]
  },
  {
   "cell_type": "code",
   "execution_count": 184,
   "id": "e5cc125f-51ae-4455-b851-c5eb7053b610",
   "metadata": {},
   "outputs": [
    {
     "data": {
      "text/plain": [
       "({1: 7.0,\n",
       "  51: 156.0,\n",
       "  101: 253.0,\n",
       "  151: 498.0,\n",
       "  201: 541.0,\n",
       "  251: 706.0,\n",
       "  301: 966.0,\n",
       "  351: 975.0,\n",
       "  401: 2810.0,\n",
       "  451: 1402.0},\n",
       " {1: 49.0,\n",
       "  51: 2566.0,\n",
       "  101: 4884.0,\n",
       "  151: 7263.0,\n",
       "  201: 9705.0,\n",
       "  251: 12076.0,\n",
       "  301: 14484.0,\n",
       "  351: 17055.0,\n",
       "  401: 19728.0,\n",
       "  451: 21660.0},\n",
       " {1: 10.0,\n",
       "  51: 96.0,\n",
       "  101: 263.0,\n",
       "  151: 430.0,\n",
       "  201: 533.0,\n",
       "  251: 311.0,\n",
       "  301: 799.0,\n",
       "  351: 260.0,\n",
       "  401: 269.0,\n",
       "  451: 231.0})"
      ]
     },
     "execution_count": 184,
     "metadata": {},
     "output_type": "execute_result"
    }
   ],
   "source": [
    "records_post_random, records_random, records_redis_random"
   ]
  },
  {
   "cell_type": "code",
   "execution_count": 185,
   "id": "bb03faa3-7127-44c8-8b52-61e1e6a49a22",
   "metadata": {
    "tags": []
   },
   "outputs": [
    {
     "name": "stdout",
     "output_type": "stream",
     "text": [
      "([1, 51, 101, 151, 201, 251, 301, 351, 401, 451], [49.0, 2566.0, 4884.0, 7263.0, 9705.0, 12076.0, 14484.0, 17055.0, 19728.0, 21660.0])\n"
     ]
    },
    {
     "data": {
      "image/png": "[encoded data removed]",
      "text/plain": [
       "<Figure size 1440x720 with 1 Axes>"
      ]
     },
     "metadata": {
      "needs_background": "light"
     },
     "output_type": "display_data"
    }
   ],
   "source": [
    "x_random = list(records_random.keys())\n",
    "y_random = [records_random[k] for k in x_random]\n",
    "print((x_random,y_random))\n",
    "\n",
    "x2_random = list(records_post_random.keys())\n",
    "y2_random = [records_post_random[k] for k in x_random]\n",
    "\n",
    "x3_random = list(records_redis_random.keys())\n",
    "y3_random = [records_redis_random[k] for k in x_random]\n",
    "\n",
    "data_index_random = [x_random, x2_random, x3_random]\n",
    "data_random = [y_random, y2_random, y3_random]\n",
    "\n",
    "fig = plt.figure(figsize=(20, 10))\n",
    "ax1 = fig.add_subplot(111)\n",
    "ax1.margins(0.1)\n",
    "ax1.grid(True)\n",
    "\n",
    "color = ['k', 'r', 'b', 'g', 'c', 'y']\n",
    "shape = ['-','.']\n",
    "labels = [\"original Impact Earth Program\", \"New ImpactEarth (based on golang)\", \"New ImpactEarth with redis(based on golang)\"]\n",
    "\n",
    "for i in range(len(data_random)):\n",
    "    ax1.plot(data_index_random[i], data_random[i], '%s%s-'%(color[i%6], shape[0]), \n",
    "         label=labels[i])\n",
    "\n",
    "\n",
    "ax1.set_xlabel('http requests in one times', fontsize=16)\n",
    "ax1.set_ylabel('time cost (ms)', fontsize=16)\n",
    "ax1.set_title('HTTP Request times', fontsize=16)\n",
    "ax1.legend(loc='best', fontsize=14);\n",
    "\n",
    "plt.savefig(\"../img/HTTP_Request_Time_random_with_valid_parameter.png\")\n"
   ]
  },
  {
   "cell_type": "code",
   "execution_count": null,
   "id": "a63e2f35-4772-440e-9ef2-279f7ea73b93",
   "metadata": {},
   "outputs": [],
   "source": []
  },
  {
   "cell_type": "code",
   "execution_count": 176,
   "id": "175a4a16-2cbc-49f5-ba78-266681602dfd",
   "metadata": {},
   "outputs": [
    {
     "data": {
      "text/plain": [
       "1427.0276143838205"
      ]
     },
     "execution_count": 176,
     "metadata": {},
     "output_type": "execute_result"
    }
   ],
   "source": [
    "random.random()*1000 + 1000"
   ]
  },
  {
   "cell_type": "code",
   "execution_count": null,
   "id": "114d4959-40ce-49b1-835f-0847d1d14c27",
   "metadata": {},
   "outputs": [],
   "source": []
  },
  {
   "cell_type": "code",
   "execution_count": null,
   "id": "92a911e6-b653-4212-bcdc-6b0bb9bc8389",
   "metadata": {},
   "outputs": [],
   "source": []
  }
 ],
 "metadata": {
  "kernelspec": {
   "display_name": "Python 3 (ipykernel)",
   "language": "python",
   "name": "python3"
  },
  "language_info": {
   "codemirror_mode": {
    "name": "ipython",
    "version": 3
   },
   "file_extension": ".py",
   "mimetype": "text/x-python",
   "name": "python",
   "nbconvert_exporter": "python",
   "pygments_lexer": "ipython3",
   "version": "3.9.12"
  }
 },
 "nbformat": 4,
 "nbformat_minor": 5
}
