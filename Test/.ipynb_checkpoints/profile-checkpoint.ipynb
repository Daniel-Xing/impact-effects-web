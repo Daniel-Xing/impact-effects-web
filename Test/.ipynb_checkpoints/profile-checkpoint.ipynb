{
 "cells": [
  {
   "cell_type": "code",
   "execution_count": 17,
   "id": "0f0118f2",
   "metadata": {},
   "outputs": [],
   "source": [
    "import requests\n",
    "import json\n",
    "\n",
    "import numpy as np\n",
    "import os\n",
    "import time\n",
    "import sys\n",
    "import numpy as np\n",
    "\n",
    "%matplotlib inline\n",
    "import numpy as np\n",
    "import matplotlib.pyplot as plt\n",
    "# from mpltools import annotation\n",
    "\n",
    "# some default font sizes for plots\n",
    "plt.rcParams['font.size'] = 12\n",
    "plt.rcParams['font.family'] = 'sans-serif'\n",
    "plt.rcParams['font.sans-serif'] = ['Arial', 'Dejavu Sans']"
   ]
  },
  {
   "cell_type": "markdown",
   "id": "c9d5ed80",
   "metadata": {},
   "source": [
    "## Untils Defination"
   ]
  },
  {
   "cell_type": "code",
   "execution_count": 18,
   "id": "2ae5996b",
   "metadata": {},
   "outputs": [],
   "source": [
    "cmd_prefix = \"./back-end-tests/manyRequest\""
   ]
  },
  {
   "cell_type": "code",
   "execution_count": 19,
   "id": "2e25130b",
   "metadata": {},
   "outputs": [],
   "source": [
    "def run_command(cmd):\n",
    "    return os.popen(cmd).read()\n",
    "\n",
    "def get_run_time(result):\n",
    "    prefix = \"Time Cost:  \"\n",
    "    print(result)\n",
    "    return float(result[result.index(prefix) + len(prefix):result.index(\" ms\")])\n",
    "\n",
    "def get_request_url(pdiameter = 111,\n",
    "    pdensity = 111,\n",
    "    velocity = 111,\n",
    "    theta = 45,\n",
    "    tdensity = 2500,\n",
    "    depth = 0,\n",
    "    distance = 75):\n",
    "    \n",
    "    URL = \"\"\"http://121.36.81.191/cgi-bin/crater.cgi?dist=%d&distanceUnits=1&diam=%d&diameterUnits=1&pdens=%d&pdens_select=0&vel=%d&velocityUnits=1&theta=%d&tdens=%d&wdepth=%d&wdepthUnits=1\"\"\" % (distance, pdiameter, pdensity, velocity, theta, tdensity, depth)\n",
    "    return URL"
   ]
  },
  {
   "cell_type": "code",
   "execution_count": 20,
   "id": "b4e31110",
   "metadata": {},
   "outputs": [],
   "source": [
    "def record_times_get(times, url, sleep = False):\n",
    "    \"\"\"\n",
    "    paramters:\n",
    "        times: slice or numpy.ndarray, \n",
    "                howMayTimes, request\n",
    "        url: string\n",
    "            address of get request\n",
    "    \"\"\"\n",
    "    \n",
    "    times = np.array(times)\n",
    "    records = {}\n",
    "    \n",
    "    for t in times:\n",
    "        params = \" --url='%s' --requestMethod=get --requestTimes=%d\" % (url, t)\n",
    "        records[t] = get_run_time(run_command(cmd = cmd_prefix + params))\n",
    "        if sleep:\n",
    "            time.sleep(3*60)\n",
    "    return records\n",
    "\n",
    "def record_time_post(times, url,\n",
    "                     pdiameter = 111,\n",
    "                     pdensity = 111,\n",
    "                     velocity = 111,\n",
    "                     theta = 45,\n",
    "                     tdensity = 2500,\n",
    "                     depth = 0,\n",
    "                     distance = 75,\n",
    "                    sleep = False):\n",
    "    \n",
    "    \"\"\"\n",
    "    paramters:\n",
    "        times: slice or numpy.ndarray, \n",
    "                howMayTimes, request\n",
    "        url: string\n",
    "            address of get request\n",
    "    \"\"\"\n",
    "    \n",
    "    times = np.array(times)\n",
    "    records = {}\n",
    "    params_data = \" --impactor_density=%d --impactor_diameter=%d --impactor_velocity=%d --impactor_theta=%d --target_density=%d --target_depth=%d --target_distance=%d \" % (\n",
    "    pdensity, pdiameter, velocity, theta, tdensity, depth, distance)\n",
    "    \n",
    "    for t in times:\n",
    "        params = \" --url='%s' --requestMethod=post --requestTimes=%d \" % (url, t)\n",
    "        records[t] = get_run_time(run_command(cmd = cmd_prefix + params + params_data))\n",
    "        if sleep:\n",
    "            time.sleep(3*60)\n",
    "        \n",
    "    return records\n",
    "    \n",
    "    "
   ]
  },
  {
   "cell_type": "code",
   "execution_count": 21,
   "id": "fa4e5364-9396-430f-95fc-0e891a843f88",
   "metadata": {},
   "outputs": [
    {
     "data": {
      "text/plain": [
       "'Already up to date.\\n'"
      ]
     },
     "execution_count": 21,
     "metadata": {},
     "output_type": "execute_result"
    }
   ],
   "source": [
    "run_command(\"git pull && cd back-end-tests/ && go build manyRequest.go\")"
   ]
  },
  {
   "cell_type": "markdown",
   "id": "94b9a21e",
   "metadata": {},
   "source": [
    "## Collect Runtime"
   ]
  },
  {
   "cell_type": "markdown",
   "id": "57b5a8d0",
   "metadata": {},
   "source": [
    "### Old Web Tool"
   ]
  },
  {
   "cell_type": "code",
   "execution_count": 38,
   "id": "24e02381-a6e5-4550-8fbf-2c4e248020d2",
   "metadata": {},
   "outputs": [],
   "source": [
    "time.sleep(10)"
   ]
  },
  {
   "cell_type": "code",
   "execution_count": 22,
   "id": "f8c2707a",
   "metadata": {
    "scrolled": true
   },
   "outputs": [
    {
     "name": "stdout",
     "output_type": "stream",
     "text": [
      "http://121.36.81.191:50052/simulator\n",
      "Run request for 1 times to with Redis URL: http://121.36.81.191/cgi-bin/crater.cgi?dist=75&distanceUnits=1&diam=111&diameterUnits=1&pdens=111&pdens_select=0&vel=111&velocityUnits=1&theta=45&tdens=2500&wdepth=0&wdepthUnits=1 \n",
      "<nil>Time Cost:  387 ms\n",
      "\n",
      "http://121.36.81.191:50052/simulator\n",
      "Run request for 41 times to with Redis URL: http://121.36.81.191/cgi-bin/crater.cgi?dist=75&distanceUnits=1&diam=111&diameterUnits=1&pdens=111&pdens_select=0&vel=111&velocityUnits=1&theta=45&tdens=2500&wdepth=0&wdepthUnits=1 \n",
      "<nil><nil><nil><nil><nil><nil><nil><nil><nil><nil><nil><nil><nil><nil><nil><nil><nil><nil><nil><nil><nil><nil><nil><nil><nil><nil><nil><nil><nil><nil><nil><nil><nil><nil><nil><nil><nil><nil><nil><nil><nil>Time Cost:  2020 ms\n",
      "\n",
      "http://121.36.81.191:50052/simulator\n",
      "Run request for 81 times to with Redis URL: http://121.36.81.191/cgi-bin/crater.cgi?dist=75&distanceUnits=1&diam=111&diameterUnits=1&pdens=111&pdens_select=0&vel=111&velocityUnits=1&theta=45&tdens=2500&wdepth=0&wdepthUnits=1 \n",
      "<nil><nil><nil><nil><nil><nil><nil><nil><nil><nil><nil><nil><nil><nil><nil><nil><nil><nil><nil><nil><nil><nil><nil><nil><nil><nil><nil><nil><nil><nil><nil><nil><nil><nil><nil><nil><nil><nil><nil><nil><nil><nil><nil><nil><nil><nil><nil><nil><nil><nil><nil><nil><nil><nil><nil><nil><nil><nil><nil><nil><nil><nil><nil><nil><nil><nil><nil><nil><nil><nil><nil><nil><nil><nil><nil><nil><nil><nil><nil><nil><nil>Time Cost:  3985 ms\n",
      "\n",
      "http://121.36.81.191:50052/simulator\n",
      "Run request for 121 times to with Redis URL: http://121.36.81.191/cgi-bin/crater.cgi?dist=75&distanceUnits=1&diam=111&diameterUnits=1&pdens=111&pdens_select=0&vel=111&velocityUnits=1&theta=45&tdens=2500&wdepth=0&wdepthUnits=1 \n",
      "<nil><nil><nil><nil><nil><nil><nil><nil><nil><nil><nil><nil><nil><nil><nil><nil><nil><nil><nil><nil><nil><nil><nil><nil><nil><nil><nil><nil><nil><nil><nil><nil><nil><nil><nil><nil><nil><nil><nil><nil><nil><nil><nil><nil><nil><nil><nil><nil><nil><nil><nil><nil><nil><nil><nil><nil><nil><nil><nil><nil><nil><nil><nil><nil><nil><nil><nil><nil><nil><nil><nil><nil><nil><nil><nil><nil><nil><nil><nil><nil><nil><nil><nil><nil><nil><nil><nil><nil><nil><nil><nil><nil><nil><nil><nil><nil><nil><nil><nil><nil><nil><nil><nil><nil><nil><nil><nil><nil><nil><nil><nil><nil><nil><nil><nil><nil><nil><nil><nil><nil><nil>Time Cost:  5896 ms\n",
      "\n",
      "http://121.36.81.191:50052/simulator\n",
      "Run request for 161 times to with Redis URL: http://121.36.81.191/cgi-bin/crater.cgi?dist=75&distanceUnits=1&diam=111&diameterUnits=1&pdens=111&pdens_select=0&vel=111&velocityUnits=1&theta=45&tdens=2500&wdepth=0&wdepthUnits=1 \n",
      "<nil><nil><nil><nil><nil><nil><nil><nil><nil><nil><nil><nil><nil><nil><nil><nil><nil><nil><nil><nil><nil><nil><nil><nil><nil><nil><nil><nil><nil><nil><nil><nil><nil><nil><nil><nil><nil><nil><nil><nil><nil><nil><nil><nil><nil><nil><nil><nil><nil><nil><nil><nil><nil><nil><nil><nil><nil><nil><nil><nil><nil><nil><nil><nil><nil><nil><nil><nil><nil><nil><nil><nil><nil><nil><nil><nil><nil><nil><nil><nil><nil><nil><nil><nil><nil><nil><nil><nil><nil><nil><nil><nil><nil><nil><nil><nil><nil><nil><nil><nil><nil><nil><nil><nil><nil><nil><nil><nil><nil><nil><nil><nil><nil><nil><nil><nil><nil><nil><nil><nil><nil><nil><nil><nil><nil><nil><nil><nil><nil><nil><nil><nil><nil><nil><nil><nil><nil><nil><nil><nil><nil><nil><nil><nil><nil><nil><nil><nil><nil><nil><nil><nil><nil><nil><nil><nil><nil><nil><nil><nil><nil>Time Cost:  7795 ms\n",
      "\n",
      "http://121.36.81.191:50052/simulator\n",
      "Run request for 201 times to with Redis URL: http://121.36.81.191/cgi-bin/crater.cgi?dist=75&distanceUnits=1&diam=111&diameterUnits=1&pdens=111&pdens_select=0&vel=111&velocityUnits=1&theta=45&tdens=2500&wdepth=0&wdepthUnits=1 \n",
      "<nil><nil><nil><nil><nil><nil><nil><nil><nil><nil><nil><nil><nil><nil><nil><nil><nil><nil><nil><nil><nil><nil><nil><nil><nil><nil><nil><nil><nil><nil><nil><nil><nil><nil><nil><nil><nil><nil><nil><nil><nil><nil><nil><nil><nil><nil><nil><nil><nil><nil><nil><nil><nil><nil><nil><nil><nil><nil><nil><nil><nil><nil><nil><nil><nil><nil><nil><nil><nil><nil><nil><nil><nil><nil><nil><nil><nil><nil><nil><nil><nil><nil><nil><nil><nil><nil><nil><nil><nil><nil><nil><nil><nil><nil><nil><nil><nil><nil><nil><nil><nil><nil><nil><nil><nil><nil><nil><nil><nil><nil><nil><nil><nil><nil><nil><nil><nil><nil><nil><nil><nil><nil><nil><nil><nil><nil><nil><nil><nil><nil><nil><nil><nil><nil><nil><nil><nil><nil><nil><nil><nil><nil><nil><nil><nil><nil><nil><nil><nil><nil><nil><nil><nil><nil><nil><nil><nil><nil><nil><nil><nil><nil><nil><nil><nil><nil><nil><nil><nil><nil><nil><nil><nil><nil><nil><nil><nil><nil><nil><nil><nil><nil><nil><nil><nil><nil><nil><nil><nil><nil><nil><nil><nil><nil><nil><nil><nil><nil><nil><nil><nil>Time Cost:  9984 ms\n",
      "\n",
      "http://121.36.81.191:50052/simulator\n",
      "Run request for 241 times to with Redis URL: http://121.36.81.191/cgi-bin/crater.cgi?dist=75&distanceUnits=1&diam=111&diameterUnits=1&pdens=111&pdens_select=0&vel=111&velocityUnits=1&theta=45&tdens=2500&wdepth=0&wdepthUnits=1 \n",
      "<nil><nil><nil><nil><nil><nil><nil><nil><nil><nil><nil><nil><nil><nil><nil><nil><nil><nil><nil><nil><nil><nil><nil><nil><nil><nil><nil><nil><nil><nil><nil><nil><nil><nil><nil><nil><nil><nil><nil><nil><nil><nil><nil><nil><nil><nil><nil><nil><nil><nil><nil><nil><nil><nil><nil><nil><nil><nil><nil><nil><nil><nil><nil><nil><nil><nil><nil><nil><nil><nil><nil><nil><nil><nil><nil><nil><nil><nil><nil><nil><nil><nil><nil><nil><nil><nil><nil><nil><nil><nil><nil><nil><nil><nil><nil><nil><nil><nil><nil><nil><nil><nil><nil><nil><nil><nil><nil><nil><nil><nil><nil><nil><nil><nil><nil><nil><nil><nil><nil><nil><nil><nil><nil><nil><nil><nil><nil><nil><nil><nil><nil><nil><nil><nil><nil><nil><nil><nil><nil><nil><nil><nil><nil><nil><nil><nil><nil><nil><nil><nil><nil><nil><nil><nil><nil><nil><nil><nil><nil><nil><nil><nil><nil><nil><nil><nil><nil><nil><nil><nil><nil><nil><nil><nil><nil><nil><nil><nil><nil><nil><nil><nil><nil><nil><nil><nil><nil><nil><nil><nil><nil><nil><nil><nil><nil><nil><nil><nil><nil><nil><nil><nil><nil><nil><nil><nil><nil><nil><nil><nil><nil><nil><nil><nil><nil><nil><nil><nil><nil><nil><nil><nil><nil><nil><nil><nil><nil><nil><nil><nil><nil><nil><nil><nil><nil><nil><nil><nil><nil><nil><nil>Time Cost:  12402 ms\n",
      "\n",
      "http://121.36.81.191:50052/simulator\n",
      "Run request for 281 times to with Redis URL: http://121.36.81.191/cgi-bin/crater.cgi?dist=75&distanceUnits=1&diam=111&diameterUnits=1&pdens=111&pdens_select=0&vel=111&velocityUnits=1&theta=45&tdens=2500&wdepth=0&wdepthUnits=1 \n",
      "<nil><nil><nil><nil><nil><nil><nil><nil><nil><nil><nil><nil><nil><nil><nil><nil><nil><nil><nil><nil><nil><nil><nil><nil><nil><nil><nil><nil><nil><nil><nil><nil><nil><nil><nil><nil><nil><nil><nil><nil><nil><nil><nil><nil><nil><nil><nil><nil><nil><nil><nil><nil><nil><nil><nil><nil><nil><nil><nil><nil><nil><nil><nil><nil><nil><nil><nil><nil><nil><nil><nil><nil><nil><nil><nil><nil><nil><nil><nil><nil><nil><nil><nil><nil><nil><nil><nil><nil><nil><nil><nil><nil><nil><nil><nil><nil><nil><nil><nil><nil><nil><nil><nil><nil><nil><nil><nil><nil><nil><nil><nil><nil><nil><nil><nil><nil><nil><nil><nil><nil><nil><nil><nil><nil><nil><nil><nil><nil><nil><nil><nil><nil><nil><nil><nil><nil><nil><nil><nil><nil><nil><nil><nil><nil><nil><nil><nil><nil><nil><nil><nil><nil><nil><nil><nil><nil><nil><nil><nil><nil><nil><nil><nil><nil><nil><nil><nil><nil><nil><nil><nil><nil><nil><nil><nil><nil><nil><nil><nil><nil><nil><nil><nil><nil><nil><nil><nil><nil><nil><nil><nil><nil><nil><nil><nil><nil><nil><nil><nil><nil><nil><nil><nil><nil><nil><nil><nil><nil><nil><nil><nil><nil><nil><nil><nil><nil><nil><nil><nil><nil><nil><nil><nil><nil><nil><nil><nil><nil><nil><nil><nil><nil><nil><nil><nil><nil><nil><nil><nil><nil><nil><nil><nil><nil><nil><nil><nil><nil><nil><nil><nil><nil><nil><nil><nil><nil><nil><nil><nil><nil><nil><nil><nil><nil><nil><nil><nil><nil><nil><nil><nil><nil><nil><nil><nil><nil><nil><nil><nil><nil><nil>Time Cost:  13768 ms\n",
      "\n",
      "http://121.36.81.191:50052/simulator\n",
      "Run request for 321 times to with Redis URL: http://121.36.81.191/cgi-bin/crater.cgi?dist=75&distanceUnits=1&diam=111&diameterUnits=1&pdens=111&pdens_select=0&vel=111&velocityUnits=1&theta=45&tdens=2500&wdepth=0&wdepthUnits=1 \n",
      "<nil><nil><nil><nil><nil><nil><nil><nil><nil><nil><nil><nil><nil><nil><nil><nil><nil><nil><nil><nil><nil><nil><nil><nil><nil><nil><nil><nil><nil><nil><nil><nil><nil><nil><nil><nil><nil><nil><nil><nil><nil><nil><nil><nil><nil><nil><nil><nil><nil><nil><nil><nil><nil><nil><nil><nil><nil><nil><nil><nil><nil><nil><nil><nil><nil><nil><nil><nil><nil><nil><nil><nil><nil><nil><nil><nil><nil><nil><nil><nil><nil><nil><nil><nil><nil><nil><nil><nil><nil><nil><nil><nil><nil><nil><nil><nil><nil><nil><nil><nil><nil><nil><nil><nil><nil><nil><nil><nil><nil><nil><nil><nil><nil><nil><nil><nil><nil><nil><nil><nil><nil><nil><nil><nil><nil><nil><nil><nil><nil><nil><nil><nil><nil><nil><nil><nil><nil><nil><nil><nil><nil><nil><nil><nil><nil><nil><nil><nil><nil><nil><nil><nil><nil><nil><nil><nil><nil><nil><nil><nil><nil><nil><nil><nil><nil><nil><nil><nil><nil><nil><nil><nil><nil><nil><nil><nil><nil><nil><nil><nil><nil><nil><nil><nil><nil><nil><nil><nil><nil><nil><nil><nil><nil><nil><nil><nil><nil><nil><nil><nil><nil><nil><nil><nil><nil><nil><nil><nil><nil><nil><nil><nil><nil><nil><nil><nil><nil><nil><nil><nil><nil><nil><nil><nil><nil><nil><nil><nil><nil><nil><nil><nil><nil><nil><nil><nil><nil><nil><nil><nil><nil><nil><nil><nil><nil><nil><nil><nil><nil><nil><nil><nil><nil><nil><nil><nil><nil><nil><nil><nil><nil><nil><nil><nil><nil><nil><nil><nil><nil><nil><nil><nil><nil><nil><nil><nil><nil><nil><nil><nil><nil><nil><nil><nil><nil><nil><nil><nil><nil><nil><nil><nil><nil><nil><nil><nil><nil><nil><nil><nil><nil><nil><nil><nil><nil><nil><nil><nil><nil><nil><nil><nil><nil><nil><nil><nil><nil><nil><nil><nil><nil>Time Cost:  15575 ms\n",
      "\n",
      "http://121.36.81.191:50052/simulator\n",
      "Run request for 361 times to with Redis URL: http://121.36.81.191/cgi-bin/crater.cgi?dist=75&distanceUnits=1&diam=111&diameterUnits=1&pdens=111&pdens_select=0&vel=111&velocityUnits=1&theta=45&tdens=2500&wdepth=0&wdepthUnits=1 \n",
      "<nil><nil><nil><nil><nil><nil><nil><nil><nil><nil><nil><nil><nil><nil><nil><nil><nil><nil><nil><nil><nil><nil><nil><nil><nil><nil><nil><nil><nil><nil><nil><nil><nil><nil><nil><nil><nil><nil><nil><nil><nil><nil><nil><nil><nil><nil><nil><nil><nil><nil><nil><nil><nil><nil><nil><nil><nil><nil><nil><nil><nil><nil><nil><nil><nil><nil><nil><nil><nil><nil><nil><nil><nil><nil><nil><nil><nil><nil><nil><nil><nil><nil><nil><nil><nil><nil><nil><nil><nil><nil><nil><nil><nil><nil><nil><nil><nil><nil><nil><nil><nil><nil><nil><nil><nil><nil><nil><nil><nil><nil><nil><nil><nil><nil><nil><nil><nil><nil><nil><nil><nil><nil><nil><nil><nil><nil><nil><nil><nil><nil><nil><nil><nil><nil><nil><nil><nil><nil><nil><nil><nil><nil><nil><nil><nil><nil><nil><nil><nil><nil><nil><nil><nil><nil><nil><nil><nil><nil><nil><nil><nil><nil><nil><nil><nil><nil><nil><nil><nil><nil><nil><nil><nil><nil><nil><nil><nil><nil><nil><nil><nil><nil><nil><nil><nil><nil><nil><nil><nil><nil><nil><nil><nil><nil><nil><nil><nil><nil><nil><nil><nil><nil><nil><nil><nil><nil><nil><nil><nil><nil><nil><nil><nil><nil><nil><nil><nil><nil><nil><nil><nil><nil><nil><nil><nil><nil><nil><nil><nil><nil><nil><nil><nil><nil><nil><nil><nil><nil><nil><nil><nil><nil><nil><nil><nil><nil><nil><nil><nil><nil><nil><nil><nil><nil><nil><nil><nil><nil><nil><nil><nil><nil><nil><nil><nil><nil><nil><nil><nil><nil><nil><nil><nil><nil><nil><nil><nil><nil><nil><nil><nil><nil><nil><nil><nil><nil><nil><nil><nil><nil><nil><nil><nil><nil><nil><nil><nil><nil><nil><nil><nil><nil><nil><nil><nil><nil><nil><nil><nil><nil><nil><nil><nil><nil><nil><nil><nil><nil><nil><nil><nil><nil><nil><nil><nil><nil><nil><nil><nil><nil><nil><nil><nil><nil><nil><nil><nil><nil><nil><nil><nil><nil><nil><nil><nil><nil><nil><nil><nil><nil><nil><nil><nil><nil><nil><nil><nil><nil><nil><nil><nil>Time Cost:  17679 ms\n",
      "\n",
      "http://121.36.81.191:50052/simulator\n",
      "Run request for 401 times to with Redis URL: http://121.36.81.191/cgi-bin/crater.cgi?dist=75&distanceUnits=1&diam=111&diameterUnits=1&pdens=111&pdens_select=0&vel=111&velocityUnits=1&theta=45&tdens=2500&wdepth=0&wdepthUnits=1 \n",
      "<nil><nil><nil><nil><nil><nil><nil><nil><nil><nil><nil><nil><nil><nil><nil><nil><nil><nil><nil><nil><nil><nil><nil><nil><nil><nil><nil><nil><nil><nil><nil><nil><nil><nil><nil><nil><nil><nil><nil><nil><nil><nil><nil><nil><nil><nil><nil><nil><nil><nil><nil><nil><nil><nil><nil><nil><nil><nil><nil><nil><nil><nil><nil><nil><nil><nil><nil><nil><nil><nil><nil><nil><nil><nil><nil><nil><nil><nil><nil><nil><nil><nil><nil><nil><nil><nil><nil><nil><nil><nil><nil><nil><nil><nil><nil><nil><nil><nil><nil><nil><nil><nil><nil><nil><nil><nil><nil><nil><nil><nil><nil><nil><nil><nil><nil><nil><nil><nil><nil><nil><nil><nil><nil><nil><nil><nil><nil><nil><nil><nil><nil><nil><nil><nil><nil><nil><nil><nil><nil><nil><nil><nil><nil><nil><nil><nil><nil><nil><nil><nil><nil><nil><nil><nil><nil><nil><nil><nil><nil><nil><nil><nil><nil><nil><nil><nil><nil><nil><nil><nil><nil><nil><nil><nil><nil><nil><nil><nil><nil><nil><nil><nil><nil><nil><nil><nil><nil><nil><nil><nil><nil><nil><nil><nil><nil><nil><nil><nil><nil><nil><nil><nil><nil><nil><nil><nil><nil><nil><nil><nil><nil><nil><nil><nil><nil><nil><nil><nil><nil><nil><nil><nil><nil><nil><nil><nil><nil><nil><nil><nil><nil><nil><nil><nil><nil><nil><nil><nil><nil><nil><nil><nil><nil><nil><nil><nil><nil><nil><nil><nil><nil><nil><nil><nil><nil><nil><nil><nil><nil><nil><nil><nil><nil><nil><nil><nil><nil><nil><nil><nil><nil><nil><nil><nil><nil><nil><nil><nil><nil><nil><nil><nil><nil><nil><nil><nil><nil><nil><nil><nil><nil><nil><nil><nil><nil><nil><nil><nil><nil><nil><nil><nil><nil><nil><nil><nil><nil><nil><nil><nil><nil><nil><nil><nil><nil><nil><nil><nil><nil><nil><nil><nil><nil><nil><nil><nil><nil><nil><nil><nil><nil><nil><nil><nil><nil><nil><nil><nil><nil><nil><nil><nil><nil><nil><nil><nil><nil><nil><nil><nil><nil><nil><nil><nil><nil><nil><nil><nil><nil><nil><nil><nil><nil><nil><nil><nil><nil><nil><nil><nil><nil><nil><nil><nil><nil><nil><nil><nil><nil><nil><nil><nil><nil><nil><nil><nil><nil><nil><nil><nil><nil><nil><nil><nil><nil><nil><nil><nil><nil><nil><nil>Time Cost:  19777 ms\n",
      "\n",
      "http://121.36.81.191:50052/simulator\n",
      "Run request for 441 times to with Redis URL: http://121.36.81.191/cgi-bin/crater.cgi?dist=75&distanceUnits=1&diam=111&diameterUnits=1&pdens=111&pdens_select=0&vel=111&velocityUnits=1&theta=45&tdens=2500&wdepth=0&wdepthUnits=1 \n",
      "<nil><nil><nil><nil><nil><nil><nil><nil><nil><nil><nil><nil><nil><nil><nil><nil><nil><nil><nil><nil><nil><nil><nil><nil><nil><nil><nil><nil><nil><nil><nil><nil><nil><nil><nil><nil><nil><nil><nil><nil><nil><nil><nil><nil><nil><nil><nil><nil><nil><nil><nil><nil><nil><nil><nil><nil><nil><nil><nil><nil><nil><nil><nil><nil><nil><nil><nil><nil><nil><nil><nil><nil><nil><nil><nil><nil><nil><nil><nil><nil><nil><nil><nil><nil><nil><nil><nil><nil><nil><nil><nil><nil><nil><nil><nil><nil><nil><nil><nil><nil><nil><nil><nil><nil><nil><nil><nil><nil><nil><nil><nil><nil><nil><nil><nil><nil><nil><nil><nil><nil><nil><nil><nil><nil><nil><nil><nil><nil><nil><nil><nil><nil><nil><nil><nil><nil><nil><nil><nil><nil><nil><nil><nil><nil><nil><nil><nil><nil><nil><nil><nil><nil><nil><nil><nil><nil><nil><nil><nil><nil><nil><nil><nil><nil><nil><nil><nil><nil><nil><nil><nil><nil><nil><nil><nil><nil><nil><nil><nil><nil><nil><nil><nil><nil><nil><nil><nil><nil><nil><nil><nil><nil><nil><nil><nil><nil><nil><nil><nil><nil><nil><nil><nil><nil><nil><nil><nil><nil><nil><nil><nil><nil><nil><nil><nil><nil><nil><nil><nil><nil><nil><nil><nil><nil><nil><nil><nil><nil><nil><nil><nil><nil><nil><nil><nil><nil><nil><nil><nil><nil><nil><nil><nil><nil><nil><nil><nil><nil><nil><nil><nil><nil><nil><nil><nil><nil><nil><nil><nil><nil><nil><nil><nil><nil><nil><nil><nil><nil><nil><nil><nil><nil><nil><nil><nil><nil><nil><nil><nil><nil><nil><nil><nil><nil><nil><nil><nil><nil><nil><nil><nil><nil><nil><nil><nil><nil><nil><nil><nil><nil><nil><nil><nil><nil><nil><nil><nil><nil><nil><nil><nil><nil><nil><nil><nil><nil><nil><nil><nil><nil><nil><nil><nil><nil><nil><nil><nil><nil><nil><nil><nil><nil><nil><nil><nil><nil><nil><nil><nil><nil><nil><nil><nil><nil><nil><nil><nil><nil><nil><nil><nil><nil><nil><nil><nil><nil><nil><nil><nil><nil><nil><nil><nil><nil><nil><nil><nil><nil><nil><nil><nil><nil><nil><nil><nil><nil><nil><nil><nil><nil><nil><nil><nil><nil><nil><nil><nil><nil><nil><nil><nil><nil><nil><nil><nil><nil><nil><nil><nil><nil><nil><nil><nil><nil><nil><nil><nil><nil><nil><nil><nil><nil><nil><nil><nil><nil><nil><nil><nil><nil><nil><nil><nil><nil><nil><nil><nil><nil><nil><nil><nil><nil><nil><nil><nil><nil><nil><nil><nil><nil><nil>Time Cost:  21517 ms\n",
      "\n",
      "http://121.36.81.191:50052/simulator\n",
      "Run request for 481 times to with Redis URL: http://121.36.81.191/cgi-bin/crater.cgi?dist=75&distanceUnits=1&diam=111&diameterUnits=1&pdens=111&pdens_select=0&vel=111&velocityUnits=1&theta=45&tdens=2500&wdepth=0&wdepthUnits=1 \n",
      "<nil><nil><nil><nil><nil><nil><nil><nil><nil><nil><nil><nil><nil><nil><nil><nil><nil><nil><nil><nil><nil><nil><nil><nil><nil><nil><nil><nil><nil><nil><nil><nil><nil><nil><nil><nil><nil><nil><nil><nil><nil><nil><nil><nil><nil><nil><nil><nil><nil><nil><nil><nil><nil><nil><nil><nil><nil><nil><nil><nil><nil><nil><nil><nil><nil><nil><nil><nil><nil><nil><nil><nil><nil><nil><nil><nil><nil><nil><nil><nil><nil><nil><nil><nil><nil><nil><nil><nil><nil><nil><nil><nil><nil><nil><nil><nil><nil><nil><nil><nil><nil><nil><nil><nil><nil><nil><nil><nil><nil><nil><nil><nil><nil><nil><nil><nil><nil><nil><nil><nil><nil><nil><nil><nil><nil><nil><nil><nil><nil><nil><nil><nil><nil><nil><nil><nil><nil><nil><nil><nil><nil><nil><nil><nil><nil><nil><nil><nil><nil><nil><nil><nil><nil><nil><nil><nil><nil><nil><nil><nil><nil><nil><nil><nil><nil><nil><nil><nil><nil><nil><nil><nil><nil><nil><nil><nil><nil><nil><nil><nil><nil><nil><nil><nil><nil><nil><nil><nil><nil><nil><nil><nil><nil><nil><nil><nil><nil><nil><nil><nil><nil><nil><nil><nil><nil><nil><nil><nil><nil><nil><nil><nil><nil><nil><nil><nil><nil><nil><nil><nil><nil><nil><nil><nil><nil><nil><nil><nil><nil><nil><nil><nil><nil><nil><nil><nil><nil><nil><nil><nil><nil><nil><nil><nil><nil><nil><nil><nil><nil><nil><nil><nil><nil><nil><nil><nil><nil><nil><nil><nil><nil><nil><nil><nil><nil><nil><nil><nil><nil><nil><nil><nil><nil><nil><nil><nil><nil><nil><nil><nil><nil><nil><nil><nil><nil><nil><nil><nil><nil><nil><nil><nil><nil><nil><nil><nil><nil><nil><nil><nil><nil><nil><nil><nil><nil><nil><nil><nil><nil><nil><nil><nil><nil><nil><nil><nil><nil><nil><nil><nil><nil><nil><nil><nil><nil><nil><nil><nil><nil><nil><nil><nil><nil><nil><nil><nil><nil><nil><nil><nil><nil><nil><nil><nil><nil><nil><nil><nil><nil><nil><nil><nil><nil><nil><nil><nil><nil><nil><nil><nil><nil><nil><nil><nil><nil><nil><nil><nil><nil><nil><nil><nil><nil><nil><nil><nil><nil><nil><nil><nil><nil><nil><nil><nil><nil><nil><nil><nil><nil><nil><nil><nil><nil><nil><nil><nil><nil><nil><nil><nil><nil><nil><nil><nil><nil><nil><nil><nil><nil><nil><nil><nil><nil><nil><nil><nil><nil><nil><nil><nil><nil><nil><nil><nil><nil><nil><nil><nil><nil><nil><nil><nil><nil><nil><nil><nil><nil><nil><nil><nil><nil><nil><nil><nil><nil><nil><nil><nil><nil><nil><nil><nil><nil><nil><nil><nil><nil><nil><nil><nil><nil><nil><nil><nil><nil><nil><nil><nil><nil><nil><nil><nil><nil><nil><nil><nil><nil><nil><nil><nil><nil>Time Cost:  23813 ms\n",
      "\n"
     ]
    }
   ],
   "source": [
    "times = [i for i in range(1, 500, 40)]\n",
    "records = record_times_get(times, get_request_url(), sleep = True)"
   ]
  },
  {
   "cell_type": "code",
   "execution_count": 23,
   "id": "a0e7bf89",
   "metadata": {
    "scrolled": true
   },
   "outputs": [
    {
     "name": "stdout",
     "output_type": "stream",
     "text": [
      "http://121.36.81.191:50052/simulator\n",
      "Run request for 1 times to with Redis URL: http://121.36.81.191:50052/simulator \n",
      "Time Cost:  1109 ms\n",
      "\n",
      "http://121.36.81.191:50052/simulator\n",
      "Run request for 41 times to with Redis URL: http://121.36.81.191:50052/simulator \n",
      "Time Cost:  140 ms\n",
      "\n",
      "http://121.36.81.191:50052/simulator\n",
      "Run request for 81 times to with Redis URL: http://121.36.81.191:50052/simulator \n",
      "Time Cost:  226 ms\n",
      "\n",
      "http://121.36.81.191:50052/simulator\n",
      "Run request for 121 times to with Redis URL: http://121.36.81.191:50052/simulator \n",
      "Time Cost:  278 ms\n",
      "\n",
      "http://121.36.81.191:50052/simulator\n",
      "Run request for 161 times to with Redis URL: http://121.36.81.191:50052/simulator \n",
      "Time Cost:  461 ms\n",
      "\n",
      "http://121.36.81.191:50052/simulator\n",
      "Run request for 201 times to with Redis URL: http://121.36.81.191:50052/simulator \n",
      "Time Cost:  516 ms\n",
      "\n",
      "http://121.36.81.191:50052/simulator\n",
      "Run request for 241 times to with Redis URL: http://121.36.81.191:50052/simulator \n",
      "Time Cost:  618 ms\n",
      "\n",
      "http://121.36.81.191:50052/simulator\n",
      "Run request for 281 times to with Redis URL: http://121.36.81.191:50052/simulator \n",
      "Time Cost:  900 ms\n",
      "\n",
      "http://121.36.81.191:50052/simulator\n",
      "Run request for 321 times to with Redis URL: http://121.36.81.191:50052/simulator \n",
      "Time Cost:  745 ms\n",
      "\n",
      "http://121.36.81.191:50052/simulator\n",
      "Run request for 361 times to with Redis URL: http://121.36.81.191:50052/simulator \n",
      "Time Cost:  1467 ms\n",
      "\n",
      "http://121.36.81.191:50052/simulator\n",
      "Run request for 401 times to with Redis URL: http://121.36.81.191:50052/simulator \n",
      "Time Cost:  1650 ms\n",
      "\n",
      "http://121.36.81.191:50052/simulator\n",
      "Run request for 441 times to with Redis URL: http://121.36.81.191:50052/simulator \n",
      "Time Cost:  2350 ms\n",
      "\n",
      "http://121.36.81.191:50052/simulator\n",
      "Run request for 481 times to with Redis URL: http://121.36.81.191:50052/simulator \n",
      "Time Cost:  3465 ms\n",
      "\n"
     ]
    }
   ],
   "source": [
    "records_post = record_time_post(times, \"http://121.36.81.191:50052/simulator\", sleep = True)"
   ]
  },
  {
   "cell_type": "code",
   "execution_count": 24,
   "id": "0c458dc5",
   "metadata": {},
   "outputs": [
    {
     "name": "stdout",
     "output_type": "stream",
     "text": [
      "http://121.36.81.191:50052/simulator\n",
      "Run request for 1 times to with Redis URL: http://121.36.81.191:50052/simulatorWithRedis \n",
      "Time Cost:  56 ms\n",
      "\n",
      "http://121.36.81.191:50052/simulator\n",
      "Run request for 41 times to with Redis URL: http://121.36.81.191:50052/simulatorWithRedis \n",
      "Time Cost:  19 ms\n",
      "\n",
      "http://121.36.81.191:50052/simulator\n",
      "Run request for 81 times to with Redis URL: http://121.36.81.191:50052/simulatorWithRedis \n",
      "Time Cost:  50 ms\n",
      "\n",
      "http://121.36.81.191:50052/simulator\n",
      "Run request for 121 times to with Redis URL: http://121.36.81.191:50052/simulatorWithRedis \n",
      "Time Cost:  51 ms\n",
      "\n",
      "http://121.36.81.191:50052/simulator\n",
      "Run request for 161 times to with Redis URL: http://121.36.81.191:50052/simulatorWithRedis \n",
      "Time Cost:  85 ms\n",
      "\n",
      "http://121.36.81.191:50052/simulator\n",
      "Run request for 201 times to with Redis URL: http://121.36.81.191:50052/simulatorWithRedis \n",
      "Time Cost:  133 ms\n",
      "\n",
      "http://121.36.81.191:50052/simulator\n",
      "Run request for 241 times to with Redis URL: http://121.36.81.191:50052/simulatorWithRedis \n",
      "Time Cost:  141 ms\n",
      "\n",
      "http://121.36.81.191:50052/simulator\n",
      "Run request for 281 times to with Redis URL: http://121.36.81.191:50052/simulatorWithRedis \n",
      "Time Cost:  206 ms\n",
      "\n",
      "http://121.36.81.191:50052/simulator\n",
      "Run request for 321 times to with Redis URL: http://121.36.81.191:50052/simulatorWithRedis \n",
      "Time Cost:  204 ms\n",
      "\n",
      "http://121.36.81.191:50052/simulator\n",
      "Run request for 361 times to with Redis URL: http://121.36.81.191:50052/simulatorWithRedis \n",
      "Time Cost:  193 ms\n",
      "\n",
      "http://121.36.81.191:50052/simulator\n",
      "Run request for 401 times to with Redis URL: http://121.36.81.191:50052/simulatorWithRedis \n",
      "Time Cost:  233 ms\n",
      "\n",
      "http://121.36.81.191:50052/simulator\n",
      "Run request for 441 times to with Redis URL: http://121.36.81.191:50052/simulatorWithRedis \n",
      "Time Cost:  241 ms\n",
      "\n",
      "http://121.36.81.191:50052/simulator\n",
      "Run request for 481 times to with Redis URL: http://121.36.81.191:50052/simulatorWithRedis \n",
      "Time Cost:  268 ms\n",
      "\n"
     ]
    }
   ],
   "source": [
    "records_redis = record_time_post(times, \"http://121.36.81.191:50052/simulatorWithRedis\", sleep = True)"
   ]
  },
  {
   "cell_type": "code",
   "execution_count": 25,
   "id": "b4f30621",
   "metadata": {},
   "outputs": [
    {
     "name": "stdout",
     "output_type": "stream",
     "text": [
      "([1, 41, 81, 121, 161, 201, 241, 281, 321, 361, 401, 441, 481], [387.0, 2020.0, 3985.0, 5896.0, 7795.0, 9984.0, 12402.0, 13768.0, 15575.0, 17679.0, 19777.0, 21517.0, 23813.0])\n"
     ]
    }
   ],
   "source": [
    "x = list(records.keys())\n",
    "y = [records[k] for k in x]\n",
    "print((x,y))\n",
    "\n",
    "x2 = list(records_post.keys())\n",
    "y2 = [records_post[k] for k in x]\n",
    "\n",
    "x3 = list(records_redis.keys())\n",
    "y3 = [records_redis[k] for k in x]\n",
    "\n",
    "data_index = [x, x2, x3]\n",
    "data = [y, y2, y3]\n"
   ]
  },
  {
   "cell_type": "code",
   "execution_count": 48,
   "id": "01e68bcd",
   "metadata": {},
   "outputs": [
    {
     "data": {
      "image/png": "[encoded data removed]",
      "text/plain": [
       "<Figure size 1440x720 with 1 Axes>"
      ]
     },
     "metadata": {
      "needs_background": "light"
     },
     "output_type": "display_data"
    }
   ],
   "source": [
    "fig = plt.figure(figsize=(20, 10))\n",
    "ax1 = fig.add_subplot(111)\n",
    "ax1.margins(0.1)\n",
    "ax1.grid(True)\n",
    "\n",
    "color = ['k', 'r', 'b', 'g', 'c', 'y']\n",
    "shape = ['-','.']\n",
    "labels = [\"original Impact Earth Program\", \"New ImpactEarth (based on golang)\", \"New ImpactEarth with redis(based on golang)\"]\n",
    "\n",
    "for i in range(len(data)):\n",
    "    ax1.plot(data_index[i], data[i], '%s%s-'%(color[i%6], shape[0]), \n",
    "         label=labels[i)\n",
    "\n",
    "\n",
    "ax1.set_xlabel('http requests in one times', fontsize=16)\n",
    "ax1.set_ylabel('time cost (ms)', fontsize=16)\n",
    "ax1.set_title('HTTP Request times', fontsize=16)\n",
    "ax1.legend(loc='best', fontsize=14);\n",
    "\n",
    "plt.savefig(\"../img/HTTP_Request_Time.png\")"
   ]
  },
  {
   "cell_type": "code",
   "execution_count": 46,
   "id": "b597a82d-9c21-434a-a6a2-58e31d19fa31",
   "metadata": {},
   "outputs": [
    {
     "data": {
      "text/plain": [
       "4"
      ]
     },
     "execution_count": 46,
     "metadata": {},
     "output_type": "execute_result"
    }
   ],
   "source": [
    "a = [1,2,3,4]\n",
    "max(a)\n"
   ]
  },
  {
   "cell_type": "code",
   "execution_count": null,
   "id": "a88e52b9-4ddb-4916-a854-44640e3aa18f",
   "metadata": {},
   "outputs": [],
   "source": []
  }
 ],
 "metadata": {
  "kernelspec": {
   "display_name": "Python 3 (ipykernel)",
   "language": "python",
   "name": "python3"
  },
  "language_info": {
   "codemirror_mode": {
    "name": "ipython",
    "version": 3
   },
   "file_extension": ".py",
   "mimetype": "text/x-python",
   "name": "python",
   "nbconvert_exporter": "python",
   "pygments_lexer": "ipython3",
   "version": "3.9.12"
  }
 },
 "nbformat": 4,
 "nbformat_minor": 5
}
